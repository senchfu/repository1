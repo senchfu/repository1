{
  "nbformat": 4,
  "nbformat_minor": 0,
  "metadata": {
    "colab": {
      "name": "competition_bert_v2.ipynb",
      "version": "0.3.2",
      "provenance": [],
      "include_colab_link": true
    },
    "kernelspec": {
      "name": "python3",
      "display_name": "Python 3"
    },
    "accelerator": "GPU"
  },
  "cells": [
    {
      "cell_type": "markdown",
      "metadata": {
        "id": "view-in-github",
        "colab_type": "text"
      },
      "source": [
        "<a href=\"https://colab.research.google.com/github/senchfu/repository1/blob/master/competition_bert_v2.ipynb\" target=\"_parent\"><img src=\"https://colab.research.google.com/assets/colab-badge.svg\" alt=\"Open In Colab\"/></a>"
      ]
    },
    {
      "cell_type": "markdown",
      "metadata": {
        "id": "pDUt1ebl-fHt",
        "colab_type": "text"
      },
      "source": [
        "基于 https://github.com/bojone/bert_in_keras/blob/master/sentiment.py"
      ]
    },
    {
      "cell_type": "code",
      "metadata": {
        "id": "2YDphgRRA-v_",
        "colab_type": "code",
        "colab": {
          "base_uri": "https://localhost:8080/",
          "height": 70
        },
        "outputId": "c202d7bf-8f78-4de5-a1c8-27f8c0cda7a4"
      },
      "source": [
        "!ls"
      ],
      "execution_count": 1,
      "outputs": [
        {
          "output_type": "stream",
          "text": [
            "chinese_L-12_H-768_A-12      stopwords.txt     Train_DataSet.csv\n",
            "chinese_L-12_H-768_A-12.zip  Test_DataSet.csv  Train_DataSet_Label.csv\n",
            "sample_data\t\t     Test.zip\t       Train.zip\n"
          ],
          "name": "stdout"
        }
      ]
    },
    {
      "cell_type": "code",
      "metadata": {
        "id": "mBbkarY4BIVW",
        "colab_type": "code",
        "colab": {
          "resources": {
            "http://localhost:8080/nbextensions/google.colab/files.js": {
              "data": "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",
              "ok": true,
              "headers": [
                [
                  "content-type",
                  "application/javascript"
                ]
              ],
              "status": 200,
              "status_text": ""
            }
          },
          "base_uri": "https://localhost:8080/",
          "height": 147
        },
        "outputId": "bc0efe5c-b597-4e16-cfeb-4270929d0d52"
      },
      "source": [
        "from google.colab import files\n",
        "uploaded = files.upload()"
      ],
      "execution_count": 3,
      "outputs": [
        {
          "output_type": "display_data",
          "data": {
            "text/html": [
              "\n",
              "     <input type=\"file\" id=\"files-81c0786b-de8b-4743-abda-3713ac397028\" name=\"files[]\" multiple disabled />\n",
              "     <output id=\"result-81c0786b-de8b-4743-abda-3713ac397028\">\n",
              "      Upload widget is only available when the cell has been executed in the\n",
              "      current browser session. Please rerun this cell to enable.\n",
              "      </output>\n",
              "      <script src=\"/nbextensions/google.colab/files.js\"></script> "
            ],
            "text/plain": [
              "<IPython.core.display.HTML object>"
            ]
          },
          "metadata": {
            "tags": []
          }
        },
        {
          "output_type": "stream",
          "text": [
            "Saving stopwords.txt to stopwords.txt\n",
            "Saving Test.zip to Test.zip\n",
            "Saving Train.zip to Train.zip\n"
          ],
          "name": "stdout"
        }
      ]
    },
    {
      "cell_type": "code",
      "metadata": {
        "id": "xr-dczINBSzI",
        "colab_type": "code",
        "colab": {
          "base_uri": "https://localhost:8080/",
          "height": 141
        },
        "outputId": "536395e1-e414-4be3-91f7-554c43a06f96"
      },
      "source": [
        "!unzip Train.zip && unzip Test.zip && ls"
      ],
      "execution_count": 4,
      "outputs": [
        {
          "output_type": "stream",
          "text": [
            "Archive:  Train.zip\n",
            "  inflating: Train_DataSet.csv       \n",
            "  inflating: Train_DataSet_Label.csv  \n",
            "Archive:  Test.zip\n",
            "  inflating: Test_DataSet.csv        \n",
            "sample_data    Test_DataSet.csv  Train_DataSet.csv\t  Train.zip\n",
            "stopwords.txt  Test.zip\t\t Train_DataSet_Label.csv\n"
          ],
          "name": "stdout"
        }
      ]
    },
    {
      "cell_type": "code",
      "metadata": {
        "id": "3eT2wnA-mmI6",
        "colab_type": "code",
        "colab": {}
      },
      "source": [
        "import pandas as pd\n",
        "import numpy as np"
      ],
      "execution_count": 0,
      "outputs": []
    },
    {
      "cell_type": "code",
      "metadata": {
        "id": "R8flLGWGmo-x",
        "colab_type": "code",
        "colab": {
          "base_uri": "https://localhost:8080/",
          "height": 281
        },
        "outputId": "d6ceb98f-d813-4094-97d8-f85557b92ae8"
      },
      "source": [
        "df_train_x = pd.read_csv('./Train_DataSet.csv')\n",
        "df_train_x.head()"
      ],
      "execution_count": 3,
      "outputs": [
        {
          "output_type": "execute_result",
          "data": {
            "text/html": [
              "<div>\n",
              "<style scoped>\n",
              "    .dataframe tbody tr th:only-of-type {\n",
              "        vertical-align: middle;\n",
              "    }\n",
              "\n",
              "    .dataframe tbody tr th {\n",
              "        vertical-align: top;\n",
              "    }\n",
              "\n",
              "    .dataframe thead th {\n",
              "        text-align: right;\n",
              "    }\n",
              "</style>\n",
              "<table border=\"1\" class=\"dataframe\">\n",
              "  <thead>\n",
              "    <tr style=\"text-align: right;\">\n",
              "      <th></th>\n",
              "      <th>id</th>\n",
              "      <th>title</th>\n",
              "      <th>content</th>\n",
              "    </tr>\n",
              "  </thead>\n",
              "  <tbody>\n",
              "    <tr>\n",
              "      <th>0</th>\n",
              "      <td>7a3dd79f90ee419da87190cff60f7a86</td>\n",
              "      <td>问责领导(上黄镇党委书记张涛，宣国才真能一手遮天吗？)</td>\n",
              "      <td>这几天看了有人举报施某某的贴子，经与举报人联系证实，是宣某当天中午请举报人和枪手喝酒后，晚上...</td>\n",
              "    </tr>\n",
              "    <tr>\n",
              "      <th>1</th>\n",
              "      <td>7640a5589bc7486ca199eeeb38af79dd</td>\n",
              "      <td>江歌事件:教会孩子，善良的同时更要懂得保护自己!</td>\n",
              "      <td>过去一年的江歌悲剧，这几日再次刷屏：住在东京都中野区的中国女留学生江歌，收留了被前男友陈世锋...</td>\n",
              "    </tr>\n",
              "    <tr>\n",
              "      <th>2</th>\n",
              "      <td>8c5bda93e4ba401f90a0faa5b28fe57f</td>\n",
              "      <td>绝味鸭脖广告\"开黄腔\"引众怒 \"双11\"这么拼值吗?</td>\n",
              "      <td>“双11”1600亿的销售额让中国乃至全世界感到震惊，为此，不仅有不惜欠债百万的“剁手党”，...</td>\n",
              "    </tr>\n",
              "    <tr>\n",
              "      <th>3</th>\n",
              "      <td>1aa777fed31a4b8a9d866f05b5477557</td>\n",
              "      <td>央视曝光!如东一医药企业将槽罐车改成垃圾车，夜间偷排高浓度废水</td>\n",
              "      <td>2016年以来，如东高新区一家叫做拜瑞生物医药的企业竟然将装废水的槽罐车伪装成洒水车，常年在...</td>\n",
              "    </tr>\n",
              "    <tr>\n",
              "      <th>4</th>\n",
              "      <td>6c67ac55360340258e157f3710ebae6c</td>\n",
              "      <td>恶劣至极，央视都曝光了!南通如东一医药企业将槽罐车改成洒水车，夜间偷排高浓度废水...丢大发了!</td>\n",
              "      <td>新闻资讯•民生热点•城市生活•南通人都在看浏览更多资讯请关注微信公众号:南通传媒网昨晚央视一...</td>\n",
              "    </tr>\n",
              "  </tbody>\n",
              "</table>\n",
              "</div>"
            ],
            "text/plain": [
              "                                 id  ...                                            content\n",
              "0  7a3dd79f90ee419da87190cff60f7a86  ...  这几天看了有人举报施某某的贴子，经与举报人联系证实，是宣某当天中午请举报人和枪手喝酒后，晚上...\n",
              "1  7640a5589bc7486ca199eeeb38af79dd  ...  过去一年的江歌悲剧，这几日再次刷屏：住在东京都中野区的中国女留学生江歌，收留了被前男友陈世锋...\n",
              "2  8c5bda93e4ba401f90a0faa5b28fe57f  ...  “双11”1600亿的销售额让中国乃至全世界感到震惊，为此，不仅有不惜欠债百万的“剁手党”，...\n",
              "3  1aa777fed31a4b8a9d866f05b5477557  ...  2016年以来，如东高新区一家叫做拜瑞生物医药的企业竟然将装废水的槽罐车伪装成洒水车，常年在...\n",
              "4  6c67ac55360340258e157f3710ebae6c  ...  新闻资讯•民生热点•城市生活•南通人都在看浏览更多资讯请关注微信公众号:南通传媒网昨晚央视一...\n",
              "\n",
              "[5 rows x 3 columns]"
            ]
          },
          "metadata": {
            "tags": []
          },
          "execution_count": 3
        }
      ]
    },
    {
      "cell_type": "code",
      "metadata": {
        "id": "zUgGu4V4mqOc",
        "colab_type": "code",
        "colab": {
          "base_uri": "https://localhost:8080/",
          "height": 35
        },
        "outputId": "40deab29-1aeb-4f48-f62c-5b388f58481c"
      },
      "source": [
        "df_train_y = pd.read_csv('./Train_DataSet_Label.csv')\n",
        "print(df_train_y['label'].unique())"
      ],
      "execution_count": 4,
      "outputs": [
        {
          "output_type": "stream",
          "text": [
            "[2 1 0]\n"
          ],
          "name": "stdout"
        }
      ]
    },
    {
      "cell_type": "code",
      "metadata": {
        "id": "ughzUrPumr07",
        "colab_type": "code",
        "colab": {
          "base_uri": "https://localhost:8080/",
          "height": 70
        },
        "outputId": "8d0d2164-495c-46c4-99d8-f1f97c7af880"
      },
      "source": [
        "df_train_x['id'].values == df_train_y['id'].values"
      ],
      "execution_count": 5,
      "outputs": [
        {
          "output_type": "stream",
          "text": [
            "/usr/local/lib/python3.6/dist-packages/ipykernel_launcher.py:1: DeprecationWarning: elementwise comparison failed; this will raise an error in the future.\n",
            "  \"\"\"Entry point for launching an IPython kernel.\n"
          ],
          "name": "stderr"
        },
        {
          "output_type": "execute_result",
          "data": {
            "text/plain": [
              "False"
            ]
          },
          "metadata": {
            "tags": []
          },
          "execution_count": 5
        }
      ]
    },
    {
      "cell_type": "code",
      "metadata": {
        "id": "VpdVb6vdmuY3",
        "colab_type": "code",
        "colab": {
          "base_uri": "https://localhost:8080/",
          "height": 123
        },
        "outputId": "79916053-7e9e-487a-d65c-acb60098d602"
      },
      "source": [
        "id_x = df_train_x['id']\n",
        "id_x.head()"
      ],
      "execution_count": 6,
      "outputs": [
        {
          "output_type": "execute_result",
          "data": {
            "text/plain": [
              "0    7a3dd79f90ee419da87190cff60f7a86\n",
              "1    7640a5589bc7486ca199eeeb38af79dd\n",
              "2    8c5bda93e4ba401f90a0faa5b28fe57f\n",
              "3    1aa777fed31a4b8a9d866f05b5477557\n",
              "4    6c67ac55360340258e157f3710ebae6c\n",
              "Name: id, dtype: object"
            ]
          },
          "metadata": {
            "tags": []
          },
          "execution_count": 6
        }
      ]
    },
    {
      "cell_type": "code",
      "metadata": {
        "id": "ftbBt4rjmwnD",
        "colab_type": "code",
        "colab": {}
      },
      "source": [
        "labels = []\n",
        "for idd in id_x:\n",
        "  if df_train_y[df_train_y['id']==idd].empty:\n",
        "    labels.append(-1)\n",
        "  else:\n",
        "    labels.append(df_train_y[df_train_y['id']==idd]['label'].values.item())\n",
        "    #np.append(labels, df_train_y[df_train_y['id']==idd]['label'].values, 0)"
      ],
      "execution_count": 0,
      "outputs": []
    },
    {
      "cell_type": "code",
      "metadata": {
        "id": "2zzUS2EQmzA1",
        "colab_type": "code",
        "colab": {
          "base_uri": "https://localhost:8080/",
          "height": 35
        },
        "outputId": "ad9e1a8e-db29-46a3-972d-cf4df427785f"
      },
      "source": [
        "len(labels)"
      ],
      "execution_count": 8,
      "outputs": [
        {
          "output_type": "execute_result",
          "data": {
            "text/plain": [
              "7345"
            ]
          },
          "metadata": {
            "tags": []
          },
          "execution_count": 8
        }
      ]
    },
    {
      "cell_type": "code",
      "metadata": {
        "id": "LqxTmmljm54-",
        "colab_type": "code",
        "colab": {
          "base_uri": "https://localhost:8080/",
          "height": 35
        },
        "outputId": "577a87d7-7b1e-4d91-c6bd-4b35fbd11a14"
      },
      "source": [
        "labels[:10]"
      ],
      "execution_count": 9,
      "outputs": [
        {
          "output_type": "execute_result",
          "data": {
            "text/plain": [
              "[2, 1, 2, 2, 2, 2, 2, 1, 2, 2]"
            ]
          },
          "metadata": {
            "tags": []
          },
          "execution_count": 9
        }
      ]
    },
    {
      "cell_type": "code",
      "metadata": {
        "id": "CTsbJmOim8gZ",
        "colab_type": "code",
        "colab": {}
      },
      "source": [
        "for x in labels:\n",
        "  if not isinstance(x, int):\n",
        "    print(x)"
      ],
      "execution_count": 0,
      "outputs": []
    },
    {
      "cell_type": "code",
      "metadata": {
        "id": "6-YYgLQCm-dK",
        "colab_type": "code",
        "colab": {}
      },
      "source": [
        "df_train_x['label'] = labels"
      ],
      "execution_count": 0,
      "outputs": []
    },
    {
      "cell_type": "code",
      "metadata": {
        "id": "pexKGvyym_yP",
        "colab_type": "code",
        "colab": {
          "base_uri": "https://localhost:8080/",
          "height": 281
        },
        "outputId": "aaa97d49-980d-4584-fa62-0af153736c87"
      },
      "source": [
        "df_train_x.head()"
      ],
      "execution_count": 12,
      "outputs": [
        {
          "output_type": "execute_result",
          "data": {
            "text/html": [
              "<div>\n",
              "<style scoped>\n",
              "    .dataframe tbody tr th:only-of-type {\n",
              "        vertical-align: middle;\n",
              "    }\n",
              "\n",
              "    .dataframe tbody tr th {\n",
              "        vertical-align: top;\n",
              "    }\n",
              "\n",
              "    .dataframe thead th {\n",
              "        text-align: right;\n",
              "    }\n",
              "</style>\n",
              "<table border=\"1\" class=\"dataframe\">\n",
              "  <thead>\n",
              "    <tr style=\"text-align: right;\">\n",
              "      <th></th>\n",
              "      <th>id</th>\n",
              "      <th>title</th>\n",
              "      <th>content</th>\n",
              "      <th>label</th>\n",
              "    </tr>\n",
              "  </thead>\n",
              "  <tbody>\n",
              "    <tr>\n",
              "      <th>0</th>\n",
              "      <td>7a3dd79f90ee419da87190cff60f7a86</td>\n",
              "      <td>问责领导(上黄镇党委书记张涛，宣国才真能一手遮天吗？)</td>\n",
              "      <td>这几天看了有人举报施某某的贴子，经与举报人联系证实，是宣某当天中午请举报人和枪手喝酒后，晚上...</td>\n",
              "      <td>2</td>\n",
              "    </tr>\n",
              "    <tr>\n",
              "      <th>1</th>\n",
              "      <td>7640a5589bc7486ca199eeeb38af79dd</td>\n",
              "      <td>江歌事件:教会孩子，善良的同时更要懂得保护自己!</td>\n",
              "      <td>过去一年的江歌悲剧，这几日再次刷屏：住在东京都中野区的中国女留学生江歌，收留了被前男友陈世锋...</td>\n",
              "      <td>1</td>\n",
              "    </tr>\n",
              "    <tr>\n",
              "      <th>2</th>\n",
              "      <td>8c5bda93e4ba401f90a0faa5b28fe57f</td>\n",
              "      <td>绝味鸭脖广告\"开黄腔\"引众怒 \"双11\"这么拼值吗?</td>\n",
              "      <td>“双11”1600亿的销售额让中国乃至全世界感到震惊，为此，不仅有不惜欠债百万的“剁手党”，...</td>\n",
              "      <td>2</td>\n",
              "    </tr>\n",
              "    <tr>\n",
              "      <th>3</th>\n",
              "      <td>1aa777fed31a4b8a9d866f05b5477557</td>\n",
              "      <td>央视曝光!如东一医药企业将槽罐车改成垃圾车，夜间偷排高浓度废水</td>\n",
              "      <td>2016年以来，如东高新区一家叫做拜瑞生物医药的企业竟然将装废水的槽罐车伪装成洒水车，常年在...</td>\n",
              "      <td>2</td>\n",
              "    </tr>\n",
              "    <tr>\n",
              "      <th>4</th>\n",
              "      <td>6c67ac55360340258e157f3710ebae6c</td>\n",
              "      <td>恶劣至极，央视都曝光了!南通如东一医药企业将槽罐车改成洒水车，夜间偷排高浓度废水...丢大发了!</td>\n",
              "      <td>新闻资讯•民生热点•城市生活•南通人都在看浏览更多资讯请关注微信公众号:南通传媒网昨晚央视一...</td>\n",
              "      <td>2</td>\n",
              "    </tr>\n",
              "  </tbody>\n",
              "</table>\n",
              "</div>"
            ],
            "text/plain": [
              "                                 id  ... label\n",
              "0  7a3dd79f90ee419da87190cff60f7a86  ...     2\n",
              "1  7640a5589bc7486ca199eeeb38af79dd  ...     1\n",
              "2  8c5bda93e4ba401f90a0faa5b28fe57f  ...     2\n",
              "3  1aa777fed31a4b8a9d866f05b5477557  ...     2\n",
              "4  6c67ac55360340258e157f3710ebae6c  ...     2\n",
              "\n",
              "[5 rows x 4 columns]"
            ]
          },
          "metadata": {
            "tags": []
          },
          "execution_count": 12
        }
      ]
    },
    {
      "cell_type": "code",
      "metadata": {
        "id": "3_15cspNnFOE",
        "colab_type": "code",
        "colab": {
          "base_uri": "https://localhost:8080/",
          "height": 35
        },
        "outputId": "01d71b49-05c0-44c1-b75d-a69e217f7ad1"
      },
      "source": [
        "df_train_x = df_train_x.dropna()\n",
        "df_train_x.shape"
      ],
      "execution_count": 13,
      "outputs": [
        {
          "output_type": "execute_result",
          "data": {
            "text/plain": [
              "(7265, 4)"
            ]
          },
          "metadata": {
            "tags": []
          },
          "execution_count": 13
        }
      ]
    },
    {
      "cell_type": "code",
      "metadata": {
        "id": "1orIyzYmnLkj",
        "colab_type": "code",
        "colab": {
          "base_uri": "https://localhost:8080/",
          "height": 35
        },
        "outputId": "17ed2d9d-9df2-4f89-f295-f28d19b998d4"
      },
      "source": [
        "df_train_x[df_train_x['label']==-1].shape"
      ],
      "execution_count": 14,
      "outputs": [
        {
          "output_type": "execute_result",
          "data": {
            "text/plain": [
              "(0, 4)"
            ]
          },
          "metadata": {
            "tags": []
          },
          "execution_count": 14
        }
      ]
    },
    {
      "cell_type": "code",
      "metadata": {
        "id": "TjrYcCVEnNOM",
        "colab_type": "code",
        "colab": {
          "base_uri": "https://localhost:8080/",
          "height": 215
        },
        "outputId": "cc0b98f3-0f9f-4e99-f0b8-74bed302e3e0"
      },
      "source": [
        "df_test_x = pd.read_csv('./Test_DataSet.csv')\n",
        "print(df_test_x.shape)\n",
        "df_test_x.head()"
      ],
      "execution_count": 15,
      "outputs": [
        {
          "output_type": "stream",
          "text": [
            "(7356, 3)\n"
          ],
          "name": "stdout"
        },
        {
          "output_type": "execute_result",
          "data": {
            "text/html": [
              "<div>\n",
              "<style scoped>\n",
              "    .dataframe tbody tr th:only-of-type {\n",
              "        vertical-align: middle;\n",
              "    }\n",
              "\n",
              "    .dataframe tbody tr th {\n",
              "        vertical-align: top;\n",
              "    }\n",
              "\n",
              "    .dataframe thead th {\n",
              "        text-align: right;\n",
              "    }\n",
              "</style>\n",
              "<table border=\"1\" class=\"dataframe\">\n",
              "  <thead>\n",
              "    <tr style=\"text-align: right;\">\n",
              "      <th></th>\n",
              "      <th>id</th>\n",
              "      <th>title</th>\n",
              "      <th>content</th>\n",
              "    </tr>\n",
              "  </thead>\n",
              "  <tbody>\n",
              "    <tr>\n",
              "      <th>0</th>\n",
              "      <td>00005a3efe934a19adc0b69b05faeae7</td>\n",
              "      <td>九江办好人民满意教育</td>\n",
              "      <td>近3年来，九江市紧紧围绕“人本教育、公平教育、优质教育、幸福教育”的目标，努力办好人民满意教...</td>\n",
              "    </tr>\n",
              "    <tr>\n",
              "      <th>1</th>\n",
              "      <td>0009dc82c41341d794837271d4dbff5f</td>\n",
              "      <td>中央第三生态环境保护督察组转办我市第三十一批信访件办理情况</td>\n",
              "      <td>中央第三生态环境保护督察组转办我市的第三十一批信访件共计1件，截至12月11日，已全部办结，...</td>\n",
              "    </tr>\n",
              "    <tr>\n",
              "      <th>2</th>\n",
              "      <td>000f3763b6074588817c9ab90a22a814</td>\n",
              "      <td>大雨天车被淹，保险公司该不该赔？</td>\n",
              "      <td>核心提示：近日，连续的降雨天气造成中心城区部分路段积水严重，一些市民驾车出行涉水时造成车辆被...</td>\n",
              "    </tr>\n",
              "    <tr>\n",
              "      <th>3</th>\n",
              "      <td>00117934dbe240068c95b6d04b08eea7</td>\n",
              "      <td>英特尔新cpu微架构ocean cove曝光</td>\n",
              "      <td>intel在主流平台上确认，今年将推出基于14nm的whiskeylake，明年开始大规模出...</td>\n",
              "    </tr>\n",
              "    <tr>\n",
              "      <th>4</th>\n",
              "      <td>0014cef5ccfa43b3a6b20162a03763fa</td>\n",
              "      <td>公安部侦破一批重大网络赌博案件 德州约局平台成重灾区</td>\n",
              "      <td>2018年4月，公安部指挥河南、北京、广西等地公安机关联合行动，成功侦破北京联众公司棋牌事业...</td>\n",
              "    </tr>\n",
              "  </tbody>\n",
              "</table>\n",
              "</div>"
            ],
            "text/plain": [
              "                                 id  ...                                            content\n",
              "0  00005a3efe934a19adc0b69b05faeae7  ...  近3年来，九江市紧紧围绕“人本教育、公平教育、优质教育、幸福教育”的目标，努力办好人民满意教...\n",
              "1  0009dc82c41341d794837271d4dbff5f  ...  中央第三生态环境保护督察组转办我市的第三十一批信访件共计1件，截至12月11日，已全部办结，...\n",
              "2  000f3763b6074588817c9ab90a22a814  ...  核心提示：近日，连续的降雨天气造成中心城区部分路段积水严重，一些市民驾车出行涉水时造成车辆被...\n",
              "3  00117934dbe240068c95b6d04b08eea7  ...  intel在主流平台上确认，今年将推出基于14nm的whiskeylake，明年开始大规模出...\n",
              "4  0014cef5ccfa43b3a6b20162a03763fa  ...  2018年4月，公安部指挥河南、北京、广西等地公安机关联合行动，成功侦破北京联众公司棋牌事业...\n",
              "\n",
              "[5 rows x 3 columns]"
            ]
          },
          "metadata": {
            "tags": []
          },
          "execution_count": 15
        }
      ]
    },
    {
      "cell_type": "code",
      "metadata": {
        "id": "vrhHi6d4nPd4",
        "colab_type": "code",
        "colab": {
          "base_uri": "https://localhost:8080/",
          "height": 35
        },
        "outputId": "0c707965-53b3-4d46-f823-074f05bdfa96"
      },
      "source": [
        "df_test_x = df_test_x.dropna()\n",
        "df_test_x.shape"
      ],
      "execution_count": 16,
      "outputs": [
        {
          "output_type": "execute_result",
          "data": {
            "text/plain": [
              "(7288, 3)"
            ]
          },
          "metadata": {
            "tags": []
          },
          "execution_count": 16
        }
      ]
    },
    {
      "cell_type": "code",
      "metadata": {
        "id": "LPAIdEbtnTmm",
        "colab_type": "code",
        "colab": {}
      },
      "source": [
        "def remove_blankspace(our_data):\n",
        "    m1 = map(lambda s: s.replace(' ', ''), our_data)\n",
        "    return list(m1)"
      ],
      "execution_count": 0,
      "outputs": []
    },
    {
      "cell_type": "code",
      "metadata": {
        "id": "hob_KiuSnWWL",
        "colab_type": "code",
        "colab": {}
      },
      "source": [
        "def is_chinese(uchar):\n",
        "    if uchar >= u'\\u4e00' and uchar <= u'\\u9fa5':\n",
        "        return True\n",
        "    else:\n",
        "        return False\n",
        "\n",
        "def format_str(content):\n",
        "    content_str = ''\n",
        "    for i in content:\n",
        "        if is_chinese(i):\n",
        "            content_str = content_str + ｉ\n",
        "    return content_str"
      ],
      "execution_count": 0,
      "outputs": []
    },
    {
      "cell_type": "code",
      "metadata": {
        "id": "mI-3iBuEnZaJ",
        "colab_type": "code",
        "colab": {}
      },
      "source": [
        "def man_data(data):\n",
        "  list_title_content = list(data['content'].values)\n",
        "  list_title_content = remove_blankspace(list_title_content)\n",
        "  chinese_list = []\n",
        "  for line in list_title_content:\n",
        "    chinese_list.append(format_str(line))\n",
        "  return chinese_list"
      ],
      "execution_count": 0,
      "outputs": []
    },
    {
      "cell_type": "code",
      "metadata": {
        "id": "ATGfakOgnbLy",
        "colab_type": "code",
        "colab": {}
      },
      "source": [
        "datas = [df_train_x, df_test_x]\n",
        "clean_title = []\n",
        "for data in datas:\n",
        "  clean_title.append(man_data(data))"
      ],
      "execution_count": 0,
      "outputs": []
    },
    {
      "cell_type": "code",
      "metadata": {
        "id": "05L6XpC_tWys",
        "colab_type": "code",
        "colab": {}
      },
      "source": [
        "datas = [df_train_x, df_test_x]\n",
        "clean_content = []\n",
        "for data in datas:\n",
        "  clean_content.append(man_data(data))"
      ],
      "execution_count": 0,
      "outputs": []
    },
    {
      "cell_type": "code",
      "metadata": {
        "id": "CPcUQnIgus3T",
        "colab_type": "code",
        "colab": {
          "base_uri": "https://localhost:8080/",
          "height": 72
        },
        "outputId": "9690e260-d5e7-4332-ae0c-1336bb67b193"
      },
      "source": [
        "train_x_content = clean_content[0]\n",
        "train_x_content[:2]"
      ],
      "execution_count": 23,
      "outputs": [
        {
          "output_type": "execute_result",
          "data": {
            "text/plain": [
              "['这几天看了有人举报施某某的贴子经与举报人联系证实是宣某当天中午请举报人和枪手喝酒后晚上才发的贴子本人不去讨论前二天的举报相信总归会有说法的今天一看施全军年月日实名举报上黄镇宣国才的贴子仍被锁定禁止评论已经正好一整年了图片施全军实名举报天后上黄镇党委政府回复如下图图片图片一年的贴子再次被网友顶起来后才发现施某几天前回复网友的处理结果竟如下图图片现责问张涛书记宣国才被举报这么多问题什么时候有答复宣国才被举报后为什么被立刻免了村书记职务为什么又被安排到城管队吃空响自己却天天在我们水泥厂上班赚黑钱这几个月水泥每吨近元纯利润还供不应求宣国才还清上黄政府担保借给宣国才代付振东厂工资社保的钱了吗据了解宣国才占他人企业经营又欠税万元欠社保万元应该还欠了职工工资几十万上黄政府打算替宣国才担保还是归还我们厂合法会计和老板被判刑四到六年现在服刑厂子给宣国才强占宣国才每天赚多万净利润却对外宣称天天亏本等咱老板刑满回厂宣国才给咱厂天天亏可能要亏的几千万元甚至几个亿张涛书记您承担还是上黄政府承担当初可是您亲自把厂交给宣国才生产的希望徐市长看到本贴后能像批示批示违建等民生问题一样关注一下我们水泥厂的将来也请徐市长抽日理万机之空亲自约谈一下当事人特别是那位施站长千万不能听取一面之辞',\n",
              " '过去一年的江歌悲剧这几日再次刷屏住在东京都中野区的中国女留学生江歌收留了被前男友陈世锋恶意纠缠的闺蜜刘鑫两人在回到江歌公寓楼时陈世锋已经等在楼下叫嚣着要刘鑫给自己一个说法男友此时的情绪处于濒临崩溃的状态江歌为了保护刘鑫就让她先进了房间自己拦在外面要求陈世锋离开结果江歌被陈世锋用刀多处刺伤脖子和胸部刀刀毙命残忍至极最终因失血过多丧生十几刀刘鑫躲在屋里躲在门后亲耳听着闺蜜江歌的声声求助及惨叫却始终没有打开门连邻居都听到呼救纷纷开门查看究竟那扇可以救命的们始终没有打开江歌死后刘鑫面对警方的询问称自己一无所知什么都没有听见不肯出来指证凶手为江歌伸冤只想着撇清关系澄清自己任江歌遭外界议论指摘甚至拒绝同江歌妈妈联系自己做了新头发买了新包包快快乐乐地过着自己的生活暗自庆幸自己终于摆脱了那个纠缠自己的前男友迫于舆论的压力刘鑫终于出现了江歌为刘鑫失去了生命可在刘鑫眼里江歌的一条命抵不过自己的名声她只在意自己及家人的生活受到了严重的影响认为自己知道错了江歌妈妈就该原谅她了不应该揪着她不放甚至在事搁一年后首次与她死者母亲见面还身穿艳色裤子不摘帽子丝毫没有尊重江歌遇害至今她每一次出现在网络那头都是在为自己争辩为自己的利益作斗争如果说江歌的正直与善良是来自江歌妈妈的言传身教那刘鑫的自私与冷漠呢在刘鑫妈妈与江歌妈妈的争执中可见一斑刘鑫妈妈说她命短了她不是为了俺闺女江歌妈妈后悔吗一定后悔后悔自己教女儿这样善良让她付出了生命的代价去为别人的过错买单曾经还有一个事件一位爸爸带着自己的孩子去河边钓鱼遇到一位带着孩子玩的妈妈虽然并不相识但是两个孩子很快打成了一片玩得不亦乐乎谁知突然两个孩子掉进了河里这位爸爸二话没说立刻下河去救孩子这个时候他的孩子离岸边近另一个孩子已经飘得比较远了孩子妈妈因为不会游泳一直在岸边喊话救救她的孩子这位爸爸稍一犹豫还是奋力向着自己的孩子游过去将自己的孩子拖到岸边这才向着另外一个孩子游去可是遗憾的是另外一个孩子被救上岸却已停止了呼吸这位妈妈悲痛欲绝不停地埋怨这位父亲我的孩子就在距离岸边不远处你一伸手就可以抓得到为什么你要游得那么远先救自己的孩子你完全可以救起我的孩子再救你的孩子你为什么这么没人性为什么为什么这是人的本能看到自己的孩子落水作为父母肯定会不顾一切地去救他更何况是他自己的孩子离得近他先救自己的孩子于情于理都说得过去不说别的世界上的人都是自私的对于自己的孩子更是如此如果这位父亲不去救自己儿子而是救了互不相识的小孩万一孩子也遭遇了不幸那么他的家庭呢他后半辈子呢谁来为他破碎的家庭负责孩子舍己为人是很伟大可是你的生命同样宝贵同样值得珍惜我们不能容许你为了别的任何人去做以身犯险的事情付出生命的代价去承担别人的过错或失误告诉孩子善良的前提是懂得保护自己在这四种情况下收起你的善良当你弱势而强势时有一天有位妈妈去学校接孩子迟到了一个人贩子抓住机会趁机哄骗她的孩子骗子说哎呀小朋友我东西丢在厕所了现在你能不能帮我去找一下她是想把孩子引到厕所里好让同伴下手结果她连续问了三遍这个小孩子一直摇头她恼了你这孩子没学过什么叫助人为乐吗小孩瞪了他一眼跑到老师身边去了人贩子看这个孩子机警马上转换目标没到十分钟他们骗到另一个小孩儿正打算开车走人的时候被警察抓了个正着原来这个小孩子跑到老师身边很笃定地跟老师说这几个人是坏人老师半信半疑但是为了安全着想还是报了警结果没想到他们真的是坏人老师就问这个小孩你怎么知道他们是坏人的小孩子说妈妈说过如果有大人找你帮忙千万不要理他因为如果大人遇到解决不了的困难一定会寻求成人帮忙而不是比他还弱小的孩子成年男子一般不会找孕妇帮忙健壮的成年人一般不会让老人帮忙大人一般不会找孩子帮忙寻求帮助一定是因为你比他强所以他才找你帮忙如果你本就是弱势而强势的一方反而要你帮忙那么说明他一定另有所图这时候请务必收起你的善良避免进入封闭环境四年前佳木斯市桦南县曾发生一起惨案一名刚刚岁的年轻女护士在路上看到一名孕妇跌倒急忙上前搀扶并将孕妇送回家中当天下午点分女护士给朋友发来微信送一名孕妇阿姨到她家了让所有人都没想到的是这条充满爱心的留言成为善良女孩留在人世间最后的信息善良的女孩失踪警方四处侦查不久捕获邪恶的孕妇谭某网络上的新闻称此女为讨好丈夫假装在街头跌倒引诱善良女孩拐到家里让丈夫伤害毫无防范的女孩送其至出租屋后被孕妇谭某以一瓶掺了安眠药的酸奶迷昏而后将善良的姑娘杀害有天下雨有个孕妇见门口有个乞丐在淋雨于心不忍于是请他进来歇歇脚乞丐感恩戴德地进了她的家在换了干净的衣服吃饱饭之后他发现只有孕妇一个人在家于是威胁孕妇给他一笔生活费在这样封闭的环境下只有他们两人在她失去了讨价还价的余地为了避免遭受更大的伤害破财消灾付了一万块钱给乞丐当一个场合从开放变成封闭缺少了大家的监督很难想象人到底会做出什么事情在人前可能是谦谦君子但是到了人后明显你弱人强的封闭环境中你只能予取予求所以助人为乐可以但是尽量避免在封闭的空间里这时候请务必收起你的善良有时候善良也会坏事有个广为人知的故事游客在禁猎区保护组织的护送下来到了神秘的可可西里一只可爱的小藏羚羊跑了来好奇的探头探脑可爱的小生灵游客们顿时骚动起来纷纷上前拍照拿出食物和饮水要喂这只可爱的小动物突然之间一声怒吼响起滚开禁猎区的保护队长冲过来打跑可爱的小藏羚羊不许游客们喂食游客怒了你这是干什么怎么可以如此粗暴的对待小动物我们爱护这些小动物又有什么不对你们这是在造孽保护队长喝斥道如果你们对待野生动物太友善它们就会以为人类都是善良的一旦遭遇盗猎者就有可能惨遭猎杀游客们惊呆了你的善良必须要经得起人心的复杂看起来是善良的事情却可能因为人的复杂贪婪而变成坏事行善务必要考察清楚你的善良到底会造成什么样的后果这时候请务必收起你的善良升米恩斗米仇从前有两户人家是邻居平时关系还不错其中一家人因为能干些家中要富裕的多这两家本来没有什么恩怨的可是这一年老天爷发怒降下了灾祸田中颗粒无收这穷的一家没有了收成只好躺着等死这个时候富的一家买到了很多粮食想着大家邻居的就给穷的一家送去了一升米救了急这穷的一家非常感激富人认为这真是救命的恩人呀熬过最艰苦的时刻后穷人就前往感谢富人说话间谈起明年的种子还没有着落富的一家慷慨地说这样吧我这里的粮食还有很多你就再拿去一斗吧这穷的千恩万谢地拿着一斗米回家了回家后他的兄弟说了这斗米能做什么除了吃以外根本就不够我们明年地里的种子这个富人太过分了既然你这么有钱就应该多送我们一些粮食和钱才给这么一点真是坏的很这话传到了富人耳朵里他很生气心想我白白送你这么多的粮食你不仅不感谢我还把我当仇人一样忌恨真不是人于是本来关系不错的两家人从此就成了仇人老死不相往来一个人饥寒交迫的时候你给他一碗米就是解决了他的大问题他会感恩不尽但是你如果继续给他米他就会觉得理所当然了一碗米不够两碗米不够三碗四碗还是觉得你只给了沧海一粟生活里常有这样的事第一次为一个人提供帮助时他会对你心存感激第二次他的感恩心理就会淡化到了次以后他简直就理直气壮地认为这都是你应该为他做的甚至当没有了这种帮助时他会对施助者心存怨恨所以人的善良一定要有度当一个人不思进取一味索取帮助时请及时收起你的善良这时候请务必收起你的善良我们不愿意世间满是冷漠之人我们也不愿意教育孩子成为利己主义者但是世间险恶有些时候选择自保无可厚非对于孩子来说他们还不能很好地判断事情的真假作为父母我们要教会孩子善良没有错但是要有底线人性复杂教会孩子懂得先保护自己才能考虑善良以及其他成功的父母每时每刻都会注重优质信息的分享把好的亲子教育文章分享给身边的朋友也许就是这样一个简单的动作数亿的孩子会更加健康快乐的成长下面的内容你可能会喜欢公众号回复爱娃即可查看文章育儿福利公益父母课堂育儿问题解答儿童能力测评育儿干货精选如如何夸孩子如何培养阅读如何过渡幼儿园父母成长记如犹太人的家教经验说科学说家庭教育如何培养出成功的孩子万千妈妈推荐如何进行优质早教如何选择合适孩子的早教课程早教精品课程推荐最牛早教卓越七田中国首家效果可衡量的早教机构深圳东莞十多家分校为近百家早教机构提供师资培训专注岁孩子学习潜能性格潜能的科学育儿方案您身边的早教专家邀您一起科学育儿育儿亲子教育深圳早教专家觉得文章还不错分享给需要的朋友吧点击阅读原文免费获取价值元儿童生理发育测评']"
            ]
          },
          "metadata": {
            "tags": []
          },
          "execution_count": 23
        }
      ]
    },
    {
      "cell_type": "code",
      "metadata": {
        "id": "gIHY56HGtdFZ",
        "colab_type": "code",
        "colab": {
          "base_uri": "https://localhost:8080/",
          "height": 72
        },
        "outputId": "d7f876a2-335b-49a8-dfab-ad8f66e649f2"
      },
      "source": [
        "clean_content[0][:2]"
      ],
      "execution_count": 24,
      "outputs": [
        {
          "output_type": "execute_result",
          "data": {
            "text/plain": [
              "['这几天看了有人举报施某某的贴子经与举报人联系证实是宣某当天中午请举报人和枪手喝酒后晚上才发的贴子本人不去讨论前二天的举报相信总归会有说法的今天一看施全军年月日实名举报上黄镇宣国才的贴子仍被锁定禁止评论已经正好一整年了图片施全军实名举报天后上黄镇党委政府回复如下图图片图片一年的贴子再次被网友顶起来后才发现施某几天前回复网友的处理结果竟如下图图片现责问张涛书记宣国才被举报这么多问题什么时候有答复宣国才被举报后为什么被立刻免了村书记职务为什么又被安排到城管队吃空响自己却天天在我们水泥厂上班赚黑钱这几个月水泥每吨近元纯利润还供不应求宣国才还清上黄政府担保借给宣国才代付振东厂工资社保的钱了吗据了解宣国才占他人企业经营又欠税万元欠社保万元应该还欠了职工工资几十万上黄政府打算替宣国才担保还是归还我们厂合法会计和老板被判刑四到六年现在服刑厂子给宣国才强占宣国才每天赚多万净利润却对外宣称天天亏本等咱老板刑满回厂宣国才给咱厂天天亏可能要亏的几千万元甚至几个亿张涛书记您承担还是上黄政府承担当初可是您亲自把厂交给宣国才生产的希望徐市长看到本贴后能像批示批示违建等民生问题一样关注一下我们水泥厂的将来也请徐市长抽日理万机之空亲自约谈一下当事人特别是那位施站长千万不能听取一面之辞',\n",
              " '过去一年的江歌悲剧这几日再次刷屏住在东京都中野区的中国女留学生江歌收留了被前男友陈世锋恶意纠缠的闺蜜刘鑫两人在回到江歌公寓楼时陈世锋已经等在楼下叫嚣着要刘鑫给自己一个说法男友此时的情绪处于濒临崩溃的状态江歌为了保护刘鑫就让她先进了房间自己拦在外面要求陈世锋离开结果江歌被陈世锋用刀多处刺伤脖子和胸部刀刀毙命残忍至极最终因失血过多丧生十几刀刘鑫躲在屋里躲在门后亲耳听着闺蜜江歌的声声求助及惨叫却始终没有打开门连邻居都听到呼救纷纷开门查看究竟那扇可以救命的们始终没有打开江歌死后刘鑫面对警方的询问称自己一无所知什么都没有听见不肯出来指证凶手为江歌伸冤只想着撇清关系澄清自己任江歌遭外界议论指摘甚至拒绝同江歌妈妈联系自己做了新头发买了新包包快快乐乐地过着自己的生活暗自庆幸自己终于摆脱了那个纠缠自己的前男友迫于舆论的压力刘鑫终于出现了江歌为刘鑫失去了生命可在刘鑫眼里江歌的一条命抵不过自己的名声她只在意自己及家人的生活受到了严重的影响认为自己知道错了江歌妈妈就该原谅她了不应该揪着她不放甚至在事搁一年后首次与她死者母亲见面还身穿艳色裤子不摘帽子丝毫没有尊重江歌遇害至今她每一次出现在网络那头都是在为自己争辩为自己的利益作斗争如果说江歌的正直与善良是来自江歌妈妈的言传身教那刘鑫的自私与冷漠呢在刘鑫妈妈与江歌妈妈的争执中可见一斑刘鑫妈妈说她命短了她不是为了俺闺女江歌妈妈后悔吗一定后悔后悔自己教女儿这样善良让她付出了生命的代价去为别人的过错买单曾经还有一个事件一位爸爸带着自己的孩子去河边钓鱼遇到一位带着孩子玩的妈妈虽然并不相识但是两个孩子很快打成了一片玩得不亦乐乎谁知突然两个孩子掉进了河里这位爸爸二话没说立刻下河去救孩子这个时候他的孩子离岸边近另一个孩子已经飘得比较远了孩子妈妈因为不会游泳一直在岸边喊话救救她的孩子这位爸爸稍一犹豫还是奋力向着自己的孩子游过去将自己的孩子拖到岸边这才向着另外一个孩子游去可是遗憾的是另外一个孩子被救上岸却已停止了呼吸这位妈妈悲痛欲绝不停地埋怨这位父亲我的孩子就在距离岸边不远处你一伸手就可以抓得到为什么你要游得那么远先救自己的孩子你完全可以救起我的孩子再救你的孩子你为什么这么没人性为什么为什么这是人的本能看到自己的孩子落水作为父母肯定会不顾一切地去救他更何况是他自己的孩子离得近他先救自己的孩子于情于理都说得过去不说别的世界上的人都是自私的对于自己的孩子更是如此如果这位父亲不去救自己儿子而是救了互不相识的小孩万一孩子也遭遇了不幸那么他的家庭呢他后半辈子呢谁来为他破碎的家庭负责孩子舍己为人是很伟大可是你的生命同样宝贵同样值得珍惜我们不能容许你为了别的任何人去做以身犯险的事情付出生命的代价去承担别人的过错或失误告诉孩子善良的前提是懂得保护自己在这四种情况下收起你的善良当你弱势而强势时有一天有位妈妈去学校接孩子迟到了一个人贩子抓住机会趁机哄骗她的孩子骗子说哎呀小朋友我东西丢在厕所了现在你能不能帮我去找一下她是想把孩子引到厕所里好让同伴下手结果她连续问了三遍这个小孩子一直摇头她恼了你这孩子没学过什么叫助人为乐吗小孩瞪了他一眼跑到老师身边去了人贩子看这个孩子机警马上转换目标没到十分钟他们骗到另一个小孩儿正打算开车走人的时候被警察抓了个正着原来这个小孩子跑到老师身边很笃定地跟老师说这几个人是坏人老师半信半疑但是为了安全着想还是报了警结果没想到他们真的是坏人老师就问这个小孩你怎么知道他们是坏人的小孩子说妈妈说过如果有大人找你帮忙千万不要理他因为如果大人遇到解决不了的困难一定会寻求成人帮忙而不是比他还弱小的孩子成年男子一般不会找孕妇帮忙健壮的成年人一般不会让老人帮忙大人一般不会找孩子帮忙寻求帮助一定是因为你比他强所以他才找你帮忙如果你本就是弱势而强势的一方反而要你帮忙那么说明他一定另有所图这时候请务必收起你的善良避免进入封闭环境四年前佳木斯市桦南县曾发生一起惨案一名刚刚岁的年轻女护士在路上看到一名孕妇跌倒急忙上前搀扶并将孕妇送回家中当天下午点分女护士给朋友发来微信送一名孕妇阿姨到她家了让所有人都没想到的是这条充满爱心的留言成为善良女孩留在人世间最后的信息善良的女孩失踪警方四处侦查不久捕获邪恶的孕妇谭某网络上的新闻称此女为讨好丈夫假装在街头跌倒引诱善良女孩拐到家里让丈夫伤害毫无防范的女孩送其至出租屋后被孕妇谭某以一瓶掺了安眠药的酸奶迷昏而后将善良的姑娘杀害有天下雨有个孕妇见门口有个乞丐在淋雨于心不忍于是请他进来歇歇脚乞丐感恩戴德地进了她的家在换了干净的衣服吃饱饭之后他发现只有孕妇一个人在家于是威胁孕妇给他一笔生活费在这样封闭的环境下只有他们两人在她失去了讨价还价的余地为了避免遭受更大的伤害破财消灾付了一万块钱给乞丐当一个场合从开放变成封闭缺少了大家的监督很难想象人到底会做出什么事情在人前可能是谦谦君子但是到了人后明显你弱人强的封闭环境中你只能予取予求所以助人为乐可以但是尽量避免在封闭的空间里这时候请务必收起你的善良有时候善良也会坏事有个广为人知的故事游客在禁猎区保护组织的护送下来到了神秘的可可西里一只可爱的小藏羚羊跑了来好奇的探头探脑可爱的小生灵游客们顿时骚动起来纷纷上前拍照拿出食物和饮水要喂这只可爱的小动物突然之间一声怒吼响起滚开禁猎区的保护队长冲过来打跑可爱的小藏羚羊不许游客们喂食游客怒了你这是干什么怎么可以如此粗暴的对待小动物我们爱护这些小动物又有什么不对你们这是在造孽保护队长喝斥道如果你们对待野生动物太友善它们就会以为人类都是善良的一旦遭遇盗猎者就有可能惨遭猎杀游客们惊呆了你的善良必须要经得起人心的复杂看起来是善良的事情却可能因为人的复杂贪婪而变成坏事行善务必要考察清楚你的善良到底会造成什么样的后果这时候请务必收起你的善良升米恩斗米仇从前有两户人家是邻居平时关系还不错其中一家人因为能干些家中要富裕的多这两家本来没有什么恩怨的可是这一年老天爷发怒降下了灾祸田中颗粒无收这穷的一家没有了收成只好躺着等死这个时候富的一家买到了很多粮食想着大家邻居的就给穷的一家送去了一升米救了急这穷的一家非常感激富人认为这真是救命的恩人呀熬过最艰苦的时刻后穷人就前往感谢富人说话间谈起明年的种子还没有着落富的一家慷慨地说这样吧我这里的粮食还有很多你就再拿去一斗吧这穷的千恩万谢地拿着一斗米回家了回家后他的兄弟说了这斗米能做什么除了吃以外根本就不够我们明年地里的种子这个富人太过分了既然你这么有钱就应该多送我们一些粮食和钱才给这么一点真是坏的很这话传到了富人耳朵里他很生气心想我白白送你这么多的粮食你不仅不感谢我还把我当仇人一样忌恨真不是人于是本来关系不错的两家人从此就成了仇人老死不相往来一个人饥寒交迫的时候你给他一碗米就是解决了他的大问题他会感恩不尽但是你如果继续给他米他就会觉得理所当然了一碗米不够两碗米不够三碗四碗还是觉得你只给了沧海一粟生活里常有这样的事第一次为一个人提供帮助时他会对你心存感激第二次他的感恩心理就会淡化到了次以后他简直就理直气壮地认为这都是你应该为他做的甚至当没有了这种帮助时他会对施助者心存怨恨所以人的善良一定要有度当一个人不思进取一味索取帮助时请及时收起你的善良这时候请务必收起你的善良我们不愿意世间满是冷漠之人我们也不愿意教育孩子成为利己主义者但是世间险恶有些时候选择自保无可厚非对于孩子来说他们还不能很好地判断事情的真假作为父母我们要教会孩子善良没有错但是要有底线人性复杂教会孩子懂得先保护自己才能考虑善良以及其他成功的父母每时每刻都会注重优质信息的分享把好的亲子教育文章分享给身边的朋友也许就是这样一个简单的动作数亿的孩子会更加健康快乐的成长下面的内容你可能会喜欢公众号回复爱娃即可查看文章育儿福利公益父母课堂育儿问题解答儿童能力测评育儿干货精选如如何夸孩子如何培养阅读如何过渡幼儿园父母成长记如犹太人的家教经验说科学说家庭教育如何培养出成功的孩子万千妈妈推荐如何进行优质早教如何选择合适孩子的早教课程早教精品课程推荐最牛早教卓越七田中国首家效果可衡量的早教机构深圳东莞十多家分校为近百家早教机构提供师资培训专注岁孩子学习潜能性格潜能的科学育儿方案您身边的早教专家邀您一起科学育儿育儿亲子教育深圳早教专家觉得文章还不错分享给需要的朋友吧点击阅读原文免费获取价值元儿童生理发育测评']"
            ]
          },
          "metadata": {
            "tags": []
          },
          "execution_count": 24
        }
      ]
    },
    {
      "cell_type": "code",
      "metadata": {
        "id": "-r8YFvfFnh4q",
        "colab_type": "code",
        "colab": {
          "base_uri": "https://localhost:8080/",
          "height": 35
        },
        "outputId": "0a686b5a-9cc4-4d1b-c7ff-d0687ec502fe"
      },
      "source": [
        "train_x_title = clean_title[0]\n",
        "test_x = clean_title[1]\n",
        "train_y = df_train_x['label'].values\n",
        "train_y = [y.item() for y in train_y]\n",
        "train_y[:10]"
      ],
      "execution_count": 25,
      "outputs": [
        {
          "output_type": "execute_result",
          "data": {
            "text/plain": [
              "[2, 1, 2, 2, 2, 2, 2, 1, 2, 2]"
            ]
          },
          "metadata": {
            "tags": []
          },
          "execution_count": 25
        }
      ]
    },
    {
      "cell_type": "code",
      "metadata": {
        "id": "Auhu-3dXu9oE",
        "colab_type": "code",
        "colab": {
          "base_uri": "https://localhost:8080/",
          "height": 72
        },
        "outputId": "c331b5e5-93e1-44d3-d37b-17de0d9236a5"
      },
      "source": [
        "train_x_content[:2]"
      ],
      "execution_count": 26,
      "outputs": [
        {
          "output_type": "execute_result",
          "data": {
            "text/plain": [
              "['这几天看了有人举报施某某的贴子经与举报人联系证实是宣某当天中午请举报人和枪手喝酒后晚上才发的贴子本人不去讨论前二天的举报相信总归会有说法的今天一看施全军年月日实名举报上黄镇宣国才的贴子仍被锁定禁止评论已经正好一整年了图片施全军实名举报天后上黄镇党委政府回复如下图图片图片一年的贴子再次被网友顶起来后才发现施某几天前回复网友的处理结果竟如下图图片现责问张涛书记宣国才被举报这么多问题什么时候有答复宣国才被举报后为什么被立刻免了村书记职务为什么又被安排到城管队吃空响自己却天天在我们水泥厂上班赚黑钱这几个月水泥每吨近元纯利润还供不应求宣国才还清上黄政府担保借给宣国才代付振东厂工资社保的钱了吗据了解宣国才占他人企业经营又欠税万元欠社保万元应该还欠了职工工资几十万上黄政府打算替宣国才担保还是归还我们厂合法会计和老板被判刑四到六年现在服刑厂子给宣国才强占宣国才每天赚多万净利润却对外宣称天天亏本等咱老板刑满回厂宣国才给咱厂天天亏可能要亏的几千万元甚至几个亿张涛书记您承担还是上黄政府承担当初可是您亲自把厂交给宣国才生产的希望徐市长看到本贴后能像批示批示违建等民生问题一样关注一下我们水泥厂的将来也请徐市长抽日理万机之空亲自约谈一下当事人特别是那位施站长千万不能听取一面之辞',\n",
              " '过去一年的江歌悲剧这几日再次刷屏住在东京都中野区的中国女留学生江歌收留了被前男友陈世锋恶意纠缠的闺蜜刘鑫两人在回到江歌公寓楼时陈世锋已经等在楼下叫嚣着要刘鑫给自己一个说法男友此时的情绪处于濒临崩溃的状态江歌为了保护刘鑫就让她先进了房间自己拦在外面要求陈世锋离开结果江歌被陈世锋用刀多处刺伤脖子和胸部刀刀毙命残忍至极最终因失血过多丧生十几刀刘鑫躲在屋里躲在门后亲耳听着闺蜜江歌的声声求助及惨叫却始终没有打开门连邻居都听到呼救纷纷开门查看究竟那扇可以救命的们始终没有打开江歌死后刘鑫面对警方的询问称自己一无所知什么都没有听见不肯出来指证凶手为江歌伸冤只想着撇清关系澄清自己任江歌遭外界议论指摘甚至拒绝同江歌妈妈联系自己做了新头发买了新包包快快乐乐地过着自己的生活暗自庆幸自己终于摆脱了那个纠缠自己的前男友迫于舆论的压力刘鑫终于出现了江歌为刘鑫失去了生命可在刘鑫眼里江歌的一条命抵不过自己的名声她只在意自己及家人的生活受到了严重的影响认为自己知道错了江歌妈妈就该原谅她了不应该揪着她不放甚至在事搁一年后首次与她死者母亲见面还身穿艳色裤子不摘帽子丝毫没有尊重江歌遇害至今她每一次出现在网络那头都是在为自己争辩为自己的利益作斗争如果说江歌的正直与善良是来自江歌妈妈的言传身教那刘鑫的自私与冷漠呢在刘鑫妈妈与江歌妈妈的争执中可见一斑刘鑫妈妈说她命短了她不是为了俺闺女江歌妈妈后悔吗一定后悔后悔自己教女儿这样善良让她付出了生命的代价去为别人的过错买单曾经还有一个事件一位爸爸带着自己的孩子去河边钓鱼遇到一位带着孩子玩的妈妈虽然并不相识但是两个孩子很快打成了一片玩得不亦乐乎谁知突然两个孩子掉进了河里这位爸爸二话没说立刻下河去救孩子这个时候他的孩子离岸边近另一个孩子已经飘得比较远了孩子妈妈因为不会游泳一直在岸边喊话救救她的孩子这位爸爸稍一犹豫还是奋力向着自己的孩子游过去将自己的孩子拖到岸边这才向着另外一个孩子游去可是遗憾的是另外一个孩子被救上岸却已停止了呼吸这位妈妈悲痛欲绝不停地埋怨这位父亲我的孩子就在距离岸边不远处你一伸手就可以抓得到为什么你要游得那么远先救自己的孩子你完全可以救起我的孩子再救你的孩子你为什么这么没人性为什么为什么这是人的本能看到自己的孩子落水作为父母肯定会不顾一切地去救他更何况是他自己的孩子离得近他先救自己的孩子于情于理都说得过去不说别的世界上的人都是自私的对于自己的孩子更是如此如果这位父亲不去救自己儿子而是救了互不相识的小孩万一孩子也遭遇了不幸那么他的家庭呢他后半辈子呢谁来为他破碎的家庭负责孩子舍己为人是很伟大可是你的生命同样宝贵同样值得珍惜我们不能容许你为了别的任何人去做以身犯险的事情付出生命的代价去承担别人的过错或失误告诉孩子善良的前提是懂得保护自己在这四种情况下收起你的善良当你弱势而强势时有一天有位妈妈去学校接孩子迟到了一个人贩子抓住机会趁机哄骗她的孩子骗子说哎呀小朋友我东西丢在厕所了现在你能不能帮我去找一下她是想把孩子引到厕所里好让同伴下手结果她连续问了三遍这个小孩子一直摇头她恼了你这孩子没学过什么叫助人为乐吗小孩瞪了他一眼跑到老师身边去了人贩子看这个孩子机警马上转换目标没到十分钟他们骗到另一个小孩儿正打算开车走人的时候被警察抓了个正着原来这个小孩子跑到老师身边很笃定地跟老师说这几个人是坏人老师半信半疑但是为了安全着想还是报了警结果没想到他们真的是坏人老师就问这个小孩你怎么知道他们是坏人的小孩子说妈妈说过如果有大人找你帮忙千万不要理他因为如果大人遇到解决不了的困难一定会寻求成人帮忙而不是比他还弱小的孩子成年男子一般不会找孕妇帮忙健壮的成年人一般不会让老人帮忙大人一般不会找孩子帮忙寻求帮助一定是因为你比他强所以他才找你帮忙如果你本就是弱势而强势的一方反而要你帮忙那么说明他一定另有所图这时候请务必收起你的善良避免进入封闭环境四年前佳木斯市桦南县曾发生一起惨案一名刚刚岁的年轻女护士在路上看到一名孕妇跌倒急忙上前搀扶并将孕妇送回家中当天下午点分女护士给朋友发来微信送一名孕妇阿姨到她家了让所有人都没想到的是这条充满爱心的留言成为善良女孩留在人世间最后的信息善良的女孩失踪警方四处侦查不久捕获邪恶的孕妇谭某网络上的新闻称此女为讨好丈夫假装在街头跌倒引诱善良女孩拐到家里让丈夫伤害毫无防范的女孩送其至出租屋后被孕妇谭某以一瓶掺了安眠药的酸奶迷昏而后将善良的姑娘杀害有天下雨有个孕妇见门口有个乞丐在淋雨于心不忍于是请他进来歇歇脚乞丐感恩戴德地进了她的家在换了干净的衣服吃饱饭之后他发现只有孕妇一个人在家于是威胁孕妇给他一笔生活费在这样封闭的环境下只有他们两人在她失去了讨价还价的余地为了避免遭受更大的伤害破财消灾付了一万块钱给乞丐当一个场合从开放变成封闭缺少了大家的监督很难想象人到底会做出什么事情在人前可能是谦谦君子但是到了人后明显你弱人强的封闭环境中你只能予取予求所以助人为乐可以但是尽量避免在封闭的空间里这时候请务必收起你的善良有时候善良也会坏事有个广为人知的故事游客在禁猎区保护组织的护送下来到了神秘的可可西里一只可爱的小藏羚羊跑了来好奇的探头探脑可爱的小生灵游客们顿时骚动起来纷纷上前拍照拿出食物和饮水要喂这只可爱的小动物突然之间一声怒吼响起滚开禁猎区的保护队长冲过来打跑可爱的小藏羚羊不许游客们喂食游客怒了你这是干什么怎么可以如此粗暴的对待小动物我们爱护这些小动物又有什么不对你们这是在造孽保护队长喝斥道如果你们对待野生动物太友善它们就会以为人类都是善良的一旦遭遇盗猎者就有可能惨遭猎杀游客们惊呆了你的善良必须要经得起人心的复杂看起来是善良的事情却可能因为人的复杂贪婪而变成坏事行善务必要考察清楚你的善良到底会造成什么样的后果这时候请务必收起你的善良升米恩斗米仇从前有两户人家是邻居平时关系还不错其中一家人因为能干些家中要富裕的多这两家本来没有什么恩怨的可是这一年老天爷发怒降下了灾祸田中颗粒无收这穷的一家没有了收成只好躺着等死这个时候富的一家买到了很多粮食想着大家邻居的就给穷的一家送去了一升米救了急这穷的一家非常感激富人认为这真是救命的恩人呀熬过最艰苦的时刻后穷人就前往感谢富人说话间谈起明年的种子还没有着落富的一家慷慨地说这样吧我这里的粮食还有很多你就再拿去一斗吧这穷的千恩万谢地拿着一斗米回家了回家后他的兄弟说了这斗米能做什么除了吃以外根本就不够我们明年地里的种子这个富人太过分了既然你这么有钱就应该多送我们一些粮食和钱才给这么一点真是坏的很这话传到了富人耳朵里他很生气心想我白白送你这么多的粮食你不仅不感谢我还把我当仇人一样忌恨真不是人于是本来关系不错的两家人从此就成了仇人老死不相往来一个人饥寒交迫的时候你给他一碗米就是解决了他的大问题他会感恩不尽但是你如果继续给他米他就会觉得理所当然了一碗米不够两碗米不够三碗四碗还是觉得你只给了沧海一粟生活里常有这样的事第一次为一个人提供帮助时他会对你心存感激第二次他的感恩心理就会淡化到了次以后他简直就理直气壮地认为这都是你应该为他做的甚至当没有了这种帮助时他会对施助者心存怨恨所以人的善良一定要有度当一个人不思进取一味索取帮助时请及时收起你的善良这时候请务必收起你的善良我们不愿意世间满是冷漠之人我们也不愿意教育孩子成为利己主义者但是世间险恶有些时候选择自保无可厚非对于孩子来说他们还不能很好地判断事情的真假作为父母我们要教会孩子善良没有错但是要有底线人性复杂教会孩子懂得先保护自己才能考虑善良以及其他成功的父母每时每刻都会注重优质信息的分享把好的亲子教育文章分享给身边的朋友也许就是这样一个简单的动作数亿的孩子会更加健康快乐的成长下面的内容你可能会喜欢公众号回复爱娃即可查看文章育儿福利公益父母课堂育儿问题解答儿童能力测评育儿干货精选如如何夸孩子如何培养阅读如何过渡幼儿园父母成长记如犹太人的家教经验说科学说家庭教育如何培养出成功的孩子万千妈妈推荐如何进行优质早教如何选择合适孩子的早教课程早教精品课程推荐最牛早教卓越七田中国首家效果可衡量的早教机构深圳东莞十多家分校为近百家早教机构提供师资培训专注岁孩子学习潜能性格潜能的科学育儿方案您身边的早教专家邀您一起科学育儿育儿亲子教育深圳早教专家觉得文章还不错分享给需要的朋友吧点击阅读原文免费获取价值元儿童生理发育测评']"
            ]
          },
          "metadata": {
            "tags": []
          },
          "execution_count": 26
        }
      ]
    },
    {
      "cell_type": "code",
      "metadata": {
        "id": "_0yB2RQa0Jm6",
        "colab_type": "code",
        "colab": {
          "base_uri": "https://localhost:8080/",
          "height": 35
        },
        "outputId": "e43eb5f6-3997-4e6f-e213-ea1cce5aae16"
      },
      "source": [
        "train_x_title[:2]"
      ],
      "execution_count": 27,
      "outputs": [
        {
          "output_type": "execute_result",
          "data": {
            "text/plain": [
              "['问责领导上黄镇党委书记张涛宣国才真能一手遮天吗', '江歌事件教会孩子善良的同时更要懂得保护自己']"
            ]
          },
          "metadata": {
            "tags": []
          },
          "execution_count": 27
        }
      ]
    },
    {
      "cell_type": "code",
      "metadata": {
        "id": "KXE5byucva0o",
        "colab_type": "code",
        "colab": {}
      },
      "source": [
        "import jieba\n",
        "def fenci(datas):\n",
        "    cut_words = map(lambda s: list(jieba.cut(s)), datas)\n",
        "    return list(cut_words)"
      ],
      "execution_count": 0,
      "outputs": []
    },
    {
      "cell_type": "code",
      "metadata": {
        "id": "JiWWJ7efvfx_",
        "colab_type": "code",
        "colab": {}
      },
      "source": [
        "train_x_content = fenci(train_x_content)\n",
        "train_x_content[:2]  #分词后的content"
      ],
      "execution_count": 0,
      "outputs": []
    },
    {
      "cell_type": "code",
      "metadata": {
        "id": "KYs1u2wcv4FJ",
        "colab_type": "code",
        "colab": {}
      },
      "source": [
        "stopwords = []\n",
        "with open('stopwords.txt', 'r') as f:\n",
        "  for line in f.readlines():\n",
        "    stopwords.append(line.replace('\\n', ''))\n",
        "stopwords[:30]"
      ],
      "execution_count": 0,
      "outputs": []
    },
    {
      "cell_type": "code",
      "metadata": {
        "id": "3QdZjIxZwXqR",
        "colab_type": "code",
        "colab": {}
      },
      "source": [
        "def drop_stopwords(contents, stopwords):\n",
        "    contents_clean = []\n",
        "    for line in contents:\n",
        "        line_clean = []\n",
        "        for word in line:\n",
        "            if word in stopwords:\n",
        "                continue\n",
        "            line_clean.append(word)\n",
        "        contents_clean.append(line_clean)\n",
        "    return contents_clean"
      ],
      "execution_count": 0,
      "outputs": []
    },
    {
      "cell_type": "code",
      "metadata": {
        "id": "gs7QaNRMwZSv",
        "colab_type": "code",
        "colab": {
          "base_uri": "https://localhost:8080/",
          "height": 55
        },
        "outputId": "30b09c1a-0d3e-4b65-e1d1-70630dd79541"
      },
      "source": [
        "train_x_content = drop_stopwords(train_x_content, stopwords)\n",
        "print(train_x_content[:2])"
      ],
      "execution_count": 32,
      "outputs": [
        {
          "output_type": "stream",
          "text": [
            "[['几天', '有人', '举报', '施', '贴子', '举报人', '联系', '证实', '宣某', '当天', '中午', '请', '举报人', '枪手', '喝酒', '晚上', '发', '贴子', '不去', '讨论', '前', '二天', '举报', '相信', '总归', '会', '说法', '今天', '看施', '全军', '年月日', '实名', '举报', '黄镇', '宣国', '贴子', '锁定', '禁止', '评论', '已经', '正好', '整年', '图片', '施', '全军', '实名', '举报', '天后', '黄镇', '党委政府', '回复', '图', '图片', '图片', '一年', '贴子', '再次', '网友', '顶', '起来', '发现', '施某', '几天', '前', '回复', '网友', '处理结果', '竟', '图', '图片', '现', '责问', '张涛', '书记', '宣国', '举报', '问题', '答复', '宣国', '举报', '立刻', '免', '村', '书记', '职务', '安排', '城管', '队', '吃', '空响', '天天', '水泥厂', '上班', '赚', '黑钱', '几个', '月', '水泥', '每吨', '近元', '纯利润', '供不应求', '宣国', '还清', '黄', '政府', '担保', '借给', '宣国', '代付', '振', '东厂', '工资', '社保', '钱', '了解', '宣国', '占', '企业', '经营', '欠税', '万元', '欠', '社保', '万元', '应该', '欠', '职工工资', '几十万', '黄', '政府', '打算', '宣国', '担保', '归还', '厂', '合法', '会计', '老板', '判刑', '四到', '六年', '现在', '服刑', '厂子', '宣国', '强占', '宣国', '每天', '赚', '多万', '净利润', '对外', '宣称', '天天', '亏本', '老板', '刑满', '回厂', '宣国', '咱厂', '天天', '亏', '可能', '亏', '几千万元', '几个', '亿张', '涛', '书记', '承担', '黄', '政府', '承担', '当初', '亲自', '厂', '交给', '宣国', '生产', '希望', '徐', '市长', '看到', '本贴', '批示', '批示', '违建', '民生问题', '关注', '一下', '水泥厂', '将来', '请', '徐', '市长', '抽', '日理万机', '之空', '亲自', '约', '谈', '一下', '当事人', '特别', '那位', '施', '站长', '千万', '不能', '听取', '一面之辞'], ['过去', '一年', '江歌', '悲剧', '几日', '再次', '刷', '屏住', '东京都', '中野', '区', '中国', '女', '留学生', '江歌', '收留', '前男友', '陈世锋', '恶意', '纠缠', '闺蜜', '刘鑫', '两人', '回到', '江歌', '公寓楼', '时', '陈世锋', '已经', '楼下', '叫嚣', '刘鑫', '一个', '说法', '男友', '情绪', '处于', '濒临', '崩溃', '状态', '江歌', '保护', '刘鑫', '就让', '先进', '房间', '拦在', '外面', '要求', '陈世锋', '离开', '江歌', '陈世锋', '刀', '多处', '刺伤', '脖子', '胸部', '刀刀', '毙命', '残忍', '至极', '最终', '失血过多', '丧生', '十几', '刀', '刘鑫', '躲', '屋里', '躲', '门', '亲耳', '听', '闺蜜', '江歌', '声声', '求助', '惨叫', '始终', '没有', '打开门', '邻居', '听到', '呼救', '纷纷', '开门', '查看', '究竟', '那扇', '救命', '始终', '没有', '打开', '江歌', '死', '刘鑫', '面对', '警方', '询问', '称', '一无所知', '没有', '听见', '不肯', '指证', '凶手', '为江歌', '伸冤', '想着', '撇清', '关系', '澄清', '任江歌', '遭', '外界', '议论', '指摘', '拒绝', '同江', '歌', '妈妈', '联系', '做', '新', '头发', '买', '新', '包包', '快快乐乐', '地过', '生活', '暗自', '庆幸', '终于', '摆脱', '纠缠', '前男友', '迫于', '舆论', '压力', '刘鑫', '终于', '出现', '江歌', '刘鑫', '失去', '生命', '刘鑫', '眼里', '江歌', '一条', '命', '抵不过', '名声', '在意', '家人', '生活', '严重', '影响', '认为', '知道', '错', '江歌', '妈妈', '原谅', '应该', '揪', '不放', '事', '搁', '一年', '首次', '死者', '母亲', '见面', '身穿', '艳色', '裤子', '摘帽子', '丝毫', '没有', '尊重', '江歌', '遇害', '一次', '出现', '网络', '那头', '争辩', '利益', '作', '斗争', '如果说', '江歌', '正直', '善良', '江歌', '妈妈', '言传身教', '刘鑫', '自私', '冷漠', '刘鑫', '妈妈', '江歌', '妈妈', '争执', '中', '可见一斑', '刘鑫', '妈妈', '说', '命', '短', '闺女', '江歌', '妈妈', '后悔', '一定', '后悔', '后悔', '教', '女儿', '善良', '付出', '生命', '代价', '过错', '买单', '曾经', '一个', '事件', '一位', '爸爸', '带', '孩子', '河边', '钓鱼', '遇到', '一位', '带', '孩子', '玩', '妈妈', '相识', '两个', '孩子', '很快', '打成', '一片', '玩得', '不亦乐乎', '突然', '两个', '孩子', '掉', '进', '河里', '这位', '爸爸', '二话没说', '立刻', '下河', '救', '孩子', '孩子', '岸边', '近', '一个', '孩子', '已经', '飘得', '比较', '远', '孩子', '妈妈', '不会', '游泳', '一直', '岸边', '喊话', '救救', '孩子', '这位', '爸爸', '稍', '犹豫', '奋力', '孩子', '游过去', '孩子', '拖', '岸边', '这才', '一个', '孩子', '游', '遗憾', '一个', '孩子', '救', '上岸', '停止', '呼吸', '这位', '妈妈', '悲痛欲绝', '不停', '埋怨', '这位', '父亲', '孩子', '距离', '岸边', '不远处', '伸手', '抓', '得到', '游得', '远', '先救', '孩子', '完全', '救起', '孩子', '救', '孩子', '没', '人性', '本能', '看到', '孩子', '落水', '父母', '肯定', '会', '不顾一切', '地去', '救', '更何况', '孩子', '离得', '近', '先救', '孩子', '于情', '于理', '说得过去', '不说', '世界', '自私', '孩子', '更是如此', '这位', '父亲', '不去', '救', '儿子', '救', '互不', '相识', '小孩', '孩子', '遭遇', '不幸', '家庭', '后半辈子', '破碎', '家庭', '负责', '孩子', '舍己为人', '伟大', '生命', '同样', '宝贵', '同样', '值得', '珍惜', '不能', '容许', '任何人', '做', '以身', '犯险', '事情', '付出', '生命', '代价', '承担', '过错', '失误', '告诉', '孩子', '善良', '前提', '懂得', '保护', '四种', '情况', '收起', '善良', '弱势', '强势', '时有', '一天', '有位', '妈妈', '学校', '接', '孩子', '迟到', '一个', '人贩子', '抓住机会', '趁机', '哄骗', '孩子', '骗子', '说', '小朋友', '东西', '丢', '厕所', '现在', '不能', '帮', '找', '一下', '想', '孩子', '引', '厕所', '里', '同伴', '下手', '连续', '问', '三遍', '小孩子', '一直', '摇头', '恼', '孩子', '没学过', '助人为乐', '小孩', '瞪', '一眼', '跑', '老师', '身边', '人贩子', '孩子', '机警', '马上', '转换', '目标', '没', '十分钟', '骗到', '一个', '小孩儿', '正', '打算', '开车', '走人', '警察', '抓', '正', '原来', '小孩子', '跑', '老师', '身边', '笃定', '老师', '说', '几个', '坏人', '老师', '半信半疑', '安全', '着想', '报', '警', '没想到', '真的', '坏人', '老师', '问', '小孩', '知道', '坏人', '小孩子', '说', '妈妈', '说', '大人', '找', '帮忙', '千万', '不要', '理他', '大人', '遇到', '解决不了', '困难', '一定', '会', '寻求', '成人', '帮忙', '弱小', '孩子', '成年', '男子', '不会', '找', '孕妇', '帮忙', '健壮', '成年人', '不会', '老人', '帮忙', '大人', '不会', '找', '孩子', '帮忙', '寻求', '帮助', '一定', '是因为', '强', '找', '帮忙', '弱势', '强势', '一方', '帮忙', '说明', '一定', '有所', '图', '这时候', '请', '务必', '收起', '善良', '避免', '进入', '封闭', '环境', '四年', '前', '佳木斯市', '桦南县', '发生', '一起', '惨案', '一名', '刚刚', '岁', '年轻', '女护士', '路上', '看到', '一名', '孕妇', '跌倒', '急忙', '上前', '搀扶', '孕妇', '送回', '家中', '当天', '下午', '点分', '女护士', '朋友', '发来', '微信', '送', '一名', '孕妇', '阿姨', '她家', '所有人', '没想到', '这条', '充满', '爱心', '留言', '成为', '善良', '女孩', '留在', '人世间', '最后', '信息', '善良', '女孩', '失踪', '警方', '四处', '侦查', '不久', '捕获', '邪恶', '孕妇', '谭某', '网络', '新闻', '称此', '女为', '讨好', '丈夫', '假装', '街头', '跌倒', '引诱', '善良', '女孩', '拐到', '家里', '丈夫', '伤害', '毫无', '防范', '女孩', '送', '出租屋', '孕妇', '谭某', '一瓶', '掺', '安眠药', '酸奶', '迷昏', '善良', '姑娘', '杀害', '天下', '雨有', '孕妇', '见', '门口', '有个', '乞丐', '淋雨', '于心不忍', '请', '进来', '歇歇脚', '乞丐', '感恩戴德', '地进', '家', '换', '干净', '衣服', '吃饱', '饭', '之后', '发现', '孕妇', '一个', '在家', '威胁', '孕妇', '一笔', '生活费', '封闭', '环境', '两人', '失去', '讨价还价', '余地', '避免', '遭受', '更大', '伤害', '破财消灾', '付', '一万块', '钱', '乞丐', '一个', '场合', '开放', '变成', '封闭', '缺少', '监督', '很难', '想象', '到底', '会', '做出', '事情', '人前', '可能', '谦谦君子', '明显', '弱', '人强', '封闭', '环境', '中', '只能', '予取予求', '助人为乐', '尽量避免', '封闭', '空间', '里', '这时候', '请', '务必', '收起', '善良', '有时候', '善良', '会', '坏事', '有个', '广为人知', '故事', '游客', '禁猎区', '保护', '组织', '护送', '下来', '神秘', '可可西里', '一只', '可爱', '藏羚羊', '跑', '好奇', '探头探脑', '可爱', '生灵', '游客', '顿时', '骚动', '起来', '纷纷', '上前', '拍照', '拿出', '食物', '饮水', '可爱', '动物', '突然', '之间', '一声', '怒吼', '响起', '滚开', '禁猎区', '保护', '队长', '冲过来', '跑', '可爱', '藏羚羊', '不许', '游客', '喂食', '游客', '怒', '干什么', '粗暴', '动物', '爱护', '动物', '造孽', '保护', '队长', '喝斥', '道', '野生动物', '太', '友善', '会', '人类', '善良', '遭遇', '盗', '猎者', '可能', '惨遭', '猎杀', '游客', '惊呆', '善良', '必须', '经得起', '人心', '复杂', '看起来', '善良', '事情', '可能', '复杂', '贪婪', '变成', '坏事', '行善', '务必', '考察', '清楚', '善良', '到底', '会', '造成', '后果', '这时候', '请', '务必', '收起', '善良', '升米', '恩斗米', '仇', '从前', '两户', '邻居', '平时', '关系', '不错', '一家人', '能干', '家中', '富裕', '两家', '本来', '没有', '恩怨', '一年', '老天爷', '发怒', '降下', '灾祸', '田中', '颗粒无收', '这穷', '一家', '没有', '收成', '只好', '躺', '死', '富', '一家', '买到', '很多', '粮食', '想着', '邻居', '穷', '一家', '送', '一升米', '救', '急', '穷', '一家', '非常感激', '富人', '认为', '真是', '救命', '恩人', '熬过', '艰苦', '时刻', '穷人', '前往', '感谢', '富人', '说话', '间', '谈起', '明年', '种子', '没有', '着落', '富', '一家', '慷慨', '地说', '粮食', '很多', '一斗', '穷', '千恩万谢', '一斗', '米', '回家', '回家', '兄弟', '说', '这斗米', '做', '吃', '以外', '根本', '不够', '明年', '地里', '种子', '富人', '太过分', '有钱', '应该', '多送', '粮食', '钱', '一点', '真是', '坏', '这话', '传到', '富人', '耳朵', '里', '生气', '心想', '白白', '送', '粮食', '感谢', '仇人', '忌恨', '真', '本来', '关系', '不错', '两家', '成', '仇人', '老死不相往来', '一个', '饥寒交迫', '一碗', '米', '解决', '问题', '他会', '感恩不尽', '继续', '米', '会', '觉得', '理所当然', '一碗', '米', '不够', '两碗', '米', '不够', '三碗', '四碗', '觉得', '沧海一粟', '生活', '里', '常有', '事', '第一次', '一个', '提供', '帮助', '时', '会', '心存', '感激', '第二次', '感恩', '心理', '会', '淡化', '次', '以后', '简直', '理直气壮', '认为', '应该', '做', '没有', '这种', '帮助', '时', '会', '施助者', '心存', '怨恨', '善良', '一定', '有度', '一个', '不思进取', '一味', '索取', '帮助', '时请', '及时', '收起', '善良', '这时候', '请', '务必', '收起', '善良', '愿意', '世间', '满是', '冷漠', '愿意', '教育', '孩子', '成为', '利己主义', '世间', '险恶', '选择', '自保', '无可厚非', '孩子', '不能', '判断', '事情', '真假', '父母', '教会', '孩子', '善良', '没有', '错', '底线', '人性', '复杂', '教会', '孩子', '懂得', '先', '保护', '考虑', '善良', '成功', '父母', '每时每刻', '会', '注重', '优质', '信息', '分享', '亲子', '教育', '文章', '分享', '身边', '朋友', '也许', '一个', '简单', '动作', '数亿', '孩子', '会', '更加', '健康', '快乐', '成长', '下面', '内容', '可能', '会', '喜欢', '公众', '号', '回复', '爱娃', '即可', '查看', '文章', '育儿', '福利', '公益', '父母', '课堂', '育儿', '问题解答', '儿童', '能力', '测评', '育儿', '干货', '精选', '夸', '孩子', '培养', '阅读', '过渡', '幼儿园', '父母', '成长', '记如', '犹太人', '家教', '经验', '说', '科学', '说', '家庭教育', '培养', '出', '成功', '孩子', '万千', '妈妈', '推荐', '进行', '优质', '早教', '选择', '合适', '孩子', '早教', '课程', '早教', '精品课程', '推荐', '最牛', '早教', '卓越', '七田', '中国', '首家', '效果', '衡量', '早教', '机构', '深圳', '东莞', '十多家', '分校', '近百家', '早教', '机构', '提供', '师资', '培训', '专注', '岁', '孩子', '学习', '潜能', '性格', '潜能', '科学', '育儿', '方案', '身边', '早教', '专家', '邀', '一起', '科学', '育儿', '育儿', '亲子', '教育', '深圳', '早教', '专家', '觉得', '文章', '不错', '分享', '需要', '朋友', '点击', '阅读', '原文', '免费', '获取', '价值', '元', '儿童', '生理', '发育', '测评']]\n"
          ],
          "name": "stdout"
        }
      ]
    },
    {
      "cell_type": "code",
      "metadata": {
        "id": "w2HwU3hqw-18",
        "colab_type": "code",
        "colab": {
          "base_uri": "https://localhost:8080/",
          "height": 55
        },
        "outputId": "f9b8eb91-1bb0-4a64-b195-51547d3b97df"
      },
      "source": [
        "train_x_content_str = []\n",
        "for content in train_x_content:\n",
        "  train_x_content_str.append(''.join(content))\n",
        "print(train_x_content_str[:2])"
      ],
      "execution_count": 33,
      "outputs": [
        {
          "output_type": "stream",
          "text": [
            "['几天有人举报施贴子举报人联系证实宣某当天中午请举报人枪手喝酒晚上发贴子不去讨论前二天举报相信总归会说法今天看施全军年月日实名举报黄镇宣国贴子锁定禁止评论已经正好整年图片施全军实名举报天后黄镇党委政府回复图图片图片一年贴子再次网友顶起来发现施某几天前回复网友处理结果竟图图片现责问张涛书记宣国举报问题答复宣国举报立刻免村书记职务安排城管队吃空响天天水泥厂上班赚黑钱几个月水泥每吨近元纯利润供不应求宣国还清黄政府担保借给宣国代付振东厂工资社保钱了解宣国占企业经营欠税万元欠社保万元应该欠职工工资几十万黄政府打算宣国担保归还厂合法会计老板判刑四到六年现在服刑厂子宣国强占宣国每天赚多万净利润对外宣称天天亏本老板刑满回厂宣国咱厂天天亏可能亏几千万元几个亿张涛书记承担黄政府承担当初亲自厂交给宣国生产希望徐市长看到本贴批示批示违建民生问题关注一下水泥厂将来请徐市长抽日理万机之空亲自约谈一下当事人特别那位施站长千万不能听取一面之辞', '过去一年江歌悲剧几日再次刷屏住东京都中野区中国女留学生江歌收留前男友陈世锋恶意纠缠闺蜜刘鑫两人回到江歌公寓楼时陈世锋已经楼下叫嚣刘鑫一个说法男友情绪处于濒临崩溃状态江歌保护刘鑫就让先进房间拦在外面要求陈世锋离开江歌陈世锋刀多处刺伤脖子胸部刀刀毙命残忍至极最终失血过多丧生十几刀刘鑫躲屋里躲门亲耳听闺蜜江歌声声求助惨叫始终没有打开门邻居听到呼救纷纷开门查看究竟那扇救命始终没有打开江歌死刘鑫面对警方询问称一无所知没有听见不肯指证凶手为江歌伸冤想着撇清关系澄清任江歌遭外界议论指摘拒绝同江歌妈妈联系做新头发买新包包快快乐乐地过生活暗自庆幸终于摆脱纠缠前男友迫于舆论压力刘鑫终于出现江歌刘鑫失去生命刘鑫眼里江歌一条命抵不过名声在意家人生活严重影响认为知道错江歌妈妈原谅应该揪不放事搁一年首次死者母亲见面身穿艳色裤子摘帽子丝毫没有尊重江歌遇害一次出现网络那头争辩利益作斗争如果说江歌正直善良江歌妈妈言传身教刘鑫自私冷漠刘鑫妈妈江歌妈妈争执中可见一斑刘鑫妈妈说命短闺女江歌妈妈后悔一定后悔后悔教女儿善良付出生命代价过错买单曾经一个事件一位爸爸带孩子河边钓鱼遇到一位带孩子玩妈妈相识两个孩子很快打成一片玩得不亦乐乎突然两个孩子掉进河里这位爸爸二话没说立刻下河救孩子孩子岸边近一个孩子已经飘得比较远孩子妈妈不会游泳一直岸边喊话救救孩子这位爸爸稍犹豫奋力孩子游过去孩子拖岸边这才一个孩子游遗憾一个孩子救上岸停止呼吸这位妈妈悲痛欲绝不停埋怨这位父亲孩子距离岸边不远处伸手抓得到游得远先救孩子完全救起孩子救孩子没人性本能看到孩子落水父母肯定会不顾一切地去救更何况孩子离得近先救孩子于情于理说得过去不说世界自私孩子更是如此这位父亲不去救儿子救互不相识小孩孩子遭遇不幸家庭后半辈子破碎家庭负责孩子舍己为人伟大生命同样宝贵同样值得珍惜不能容许任何人做以身犯险事情付出生命代价承担过错失误告诉孩子善良前提懂得保护四种情况收起善良弱势强势时有一天有位妈妈学校接孩子迟到一个人贩子抓住机会趁机哄骗孩子骗子说小朋友东西丢厕所现在不能帮找一下想孩子引厕所里同伴下手连续问三遍小孩子一直摇头恼孩子没学过助人为乐小孩瞪一眼跑老师身边人贩子孩子机警马上转换目标没十分钟骗到一个小孩儿正打算开车走人警察抓正原来小孩子跑老师身边笃定老师说几个坏人老师半信半疑安全着想报警没想到真的坏人老师问小孩知道坏人小孩子说妈妈说大人找帮忙千万不要理他大人遇到解决不了困难一定会寻求成人帮忙弱小孩子成年男子不会找孕妇帮忙健壮成年人不会老人帮忙大人不会找孩子帮忙寻求帮助一定是因为强找帮忙弱势强势一方帮忙说明一定有所图这时候请务必收起善良避免进入封闭环境四年前佳木斯市桦南县发生一起惨案一名刚刚岁年轻女护士路上看到一名孕妇跌倒急忙上前搀扶孕妇送回家中当天下午点分女护士朋友发来微信送一名孕妇阿姨她家所有人没想到这条充满爱心留言成为善良女孩留在人世间最后信息善良女孩失踪警方四处侦查不久捕获邪恶孕妇谭某网络新闻称此女为讨好丈夫假装街头跌倒引诱善良女孩拐到家里丈夫伤害毫无防范女孩送出租屋孕妇谭某一瓶掺安眠药酸奶迷昏善良姑娘杀害天下雨有孕妇见门口有个乞丐淋雨于心不忍请进来歇歇脚乞丐感恩戴德地进家换干净衣服吃饱饭之后发现孕妇一个在家威胁孕妇一笔生活费封闭环境两人失去讨价还价余地避免遭受更大伤害破财消灾付一万块钱乞丐一个场合开放变成封闭缺少监督很难想象到底会做出事情人前可能谦谦君子明显弱人强封闭环境中只能予取予求助人为乐尽量避免封闭空间里这时候请务必收起善良有时候善良会坏事有个广为人知故事游客禁猎区保护组织护送下来神秘可可西里一只可爱藏羚羊跑好奇探头探脑可爱生灵游客顿时骚动起来纷纷上前拍照拿出食物饮水可爱动物突然之间一声怒吼响起滚开禁猎区保护队长冲过来跑可爱藏羚羊不许游客喂食游客怒干什么粗暴动物爱护动物造孽保护队长喝斥道野生动物太友善会人类善良遭遇盗猎者可能惨遭猎杀游客惊呆善良必须经得起人心复杂看起来善良事情可能复杂贪婪变成坏事行善务必考察清楚善良到底会造成后果这时候请务必收起善良升米恩斗米仇从前两户邻居平时关系不错一家人能干家中富裕两家本来没有恩怨一年老天爷发怒降下灾祸田中颗粒无收这穷一家没有收成只好躺死富一家买到很多粮食想着邻居穷一家送一升米救急穷一家非常感激富人认为真是救命恩人熬过艰苦时刻穷人前往感谢富人说话间谈起明年种子没有着落富一家慷慨地说粮食很多一斗穷千恩万谢一斗米回家回家兄弟说这斗米做吃以外根本不够明年地里种子富人太过分有钱应该多送粮食钱一点真是坏这话传到富人耳朵里生气心想白白送粮食感谢仇人忌恨真本来关系不错两家成仇人老死不相往来一个饥寒交迫一碗米解决问题他会感恩不尽继续米会觉得理所当然一碗米不够两碗米不够三碗四碗觉得沧海一粟生活里常有事第一次一个提供帮助时会心存感激第二次感恩心理会淡化次以后简直理直气壮认为应该做没有这种帮助时会施助者心存怨恨善良一定有度一个不思进取一味索取帮助时请及时收起善良这时候请务必收起善良愿意世间满是冷漠愿意教育孩子成为利己主义世间险恶选择自保无可厚非孩子不能判断事情真假父母教会孩子善良没有错底线人性复杂教会孩子懂得先保护考虑善良成功父母每时每刻会注重优质信息分享亲子教育文章分享身边朋友也许一个简单动作数亿孩子会更加健康快乐成长下面内容可能会喜欢公众号回复爱娃即可查看文章育儿福利公益父母课堂育儿问题解答儿童能力测评育儿干货精选夸孩子培养阅读过渡幼儿园父母成长记如犹太人家教经验说科学说家庭教育培养出成功孩子万千妈妈推荐进行优质早教选择合适孩子早教课程早教精品课程推荐最牛早教卓越七田中国首家效果衡量早教机构深圳东莞十多家分校近百家早教机构提供师资培训专注岁孩子学习潜能性格潜能科学育儿方案身边早教专家邀一起科学育儿育儿亲子教育深圳早教专家觉得文章不错分享需要朋友点击阅读原文免费获取价值元儿童生理发育测评']\n"
          ],
          "name": "stdout"
        }
      ]
    },
    {
      "cell_type": "code",
      "metadata": {
        "id": "7buwY4H2nmOz",
        "colab_type": "code",
        "colab": {
          "base_uri": "https://localhost:8080/",
          "height": 35
        },
        "outputId": "3067fb5e-c3ed-4876-e45f-3048892ae016"
      },
      "source": [
        "len(test_x)"
      ],
      "execution_count": 34,
      "outputs": [
        {
          "output_type": "execute_result",
          "data": {
            "text/plain": [
              "7288"
            ]
          },
          "metadata": {
            "tags": []
          },
          "execution_count": 34
        }
      ]
    },
    {
      "cell_type": "code",
      "metadata": {
        "id": "-0lf-wgWuBGQ",
        "colab_type": "code",
        "colab": {
          "base_uri": "https://localhost:8080/",
          "height": 70
        },
        "outputId": "6f33d259-912b-4d47-9a93-f0bbb84e24bf"
      },
      "source": [
        "a = [1,2,3]\n",
        "b = [4,5,6]\n",
        "for i, j in zip(a, b):\n",
        "  print(i,j)"
      ],
      "execution_count": 31,
      "outputs": [
        {
          "output_type": "stream",
          "text": [
            "1 4\n",
            "2 5\n",
            "3 6\n"
          ],
          "name": "stdout"
        }
      ]
    },
    {
      "cell_type": "code",
      "metadata": {
        "id": "3v7Bgv2znotg",
        "colab_type": "code",
        "colab": {}
      },
      "source": [
        ""
      ],
      "execution_count": 0,
      "outputs": []
    },
    {
      "cell_type": "code",
      "metadata": {
        "id": "Qfr-O44Enznm",
        "colab_type": "code",
        "colab": {
          "base_uri": "https://localhost:8080/",
          "height": 123
        },
        "outputId": "c06f48d7-f5a3-46a1-a31c-3fcacfb4bf6b"
      },
      "source": [
        "!pip install -q keras-bert keras-rectified-adam\n",
        "!wget -q https://storage.googleapis.com/bert_models/2018_11_03/chinese_L-12_H-768_A-12.zip\n",
        "!unzip -o chinese_L-12_H-768_A-12.zip"
      ],
      "execution_count": 35,
      "outputs": [
        {
          "output_type": "stream",
          "text": [
            "Archive:  chinese_L-12_H-768_A-12.zip\n",
            "  inflating: chinese_L-12_H-768_A-12/bert_model.ckpt.meta  \n",
            "  inflating: chinese_L-12_H-768_A-12/bert_model.ckpt.data-00000-of-00001  \n",
            "  inflating: chinese_L-12_H-768_A-12/vocab.txt  \n",
            "  inflating: chinese_L-12_H-768_A-12/bert_model.ckpt.index  \n",
            "  inflating: chinese_L-12_H-768_A-12/bert_config.json  \n"
          ],
          "name": "stdout"
        }
      ]
    },
    {
      "cell_type": "code",
      "metadata": {
        "id": "eTG-BJJ5nz-7",
        "colab_type": "code",
        "colab": {
          "base_uri": "https://localhost:8080/",
          "height": 35
        },
        "outputId": "73d3d231-dad9-4d1c-8209-07dd9df038bb"
      },
      "source": [
        "import json\n",
        "import numpy as np\n",
        "import pandas as pd\n",
        "from random import choice\n",
        "from keras_bert import load_trained_model_from_checkpoint, Tokenizer\n",
        "import re, os\n",
        "import codecs"
      ],
      "execution_count": 36,
      "outputs": [
        {
          "output_type": "stream",
          "text": [
            "Using TensorFlow backend.\n"
          ],
          "name": "stderr"
        }
      ]
    },
    {
      "cell_type": "code",
      "metadata": {
        "id": "wrQXtyD4oSHV",
        "colab_type": "code",
        "colab": {}
      },
      "source": [
        "maxlen = 100\n",
        "config_path = 'chinese_L-12_H-768_A-12/bert_config.json'\n",
        "checkpoint_path = 'chinese_L-12_H-768_A-12/bert_model.ckpt'\n",
        "dict_path = 'chinese_L-12_H-768_A-12/vocab.txt'"
      ],
      "execution_count": 0,
      "outputs": []
    },
    {
      "cell_type": "code",
      "metadata": {
        "id": "BjobI89WoU1x",
        "colab_type": "code",
        "colab": {}
      },
      "source": [
        "token_dict = {}\n",
        "\n",
        "with codecs.open(dict_path, 'r', 'utf8') as reader:\n",
        "    for line in reader:\n",
        "        token = line.strip()\n",
        "        token_dict[token] = len(token_dict)\n"
      ],
      "execution_count": 0,
      "outputs": []
    },
    {
      "cell_type": "code",
      "metadata": {
        "id": "Jae76VIGodxt",
        "colab_type": "code",
        "colab": {}
      },
      "source": [
        "class OurTokenizer(Tokenizer):\n",
        "    def _tokenize(self, text):\n",
        "        R = []\n",
        "        for c in text:\n",
        "            if c in self._token_dict:\n",
        "                R.append(c)\n",
        "            elif self._is_space(c):\n",
        "                R.append('[unused1]') # space类用未经训练的[unused1]表示\n",
        "            else:\n",
        "                R.append('[UNK]') # 剩余的字符是[UNK]\n",
        "        return R\n",
        "\n",
        "tokenizer = OurTokenizer(token_dict)"
      ],
      "execution_count": 0,
      "outputs": []
    },
    {
      "cell_type": "code",
      "metadata": {
        "id": "e6ACgo_vxrGY",
        "colab_type": "code",
        "colab": {
          "base_uri": "https://localhost:8080/",
          "height": 223
        },
        "outputId": "ade72b1b-03d7-47cd-9adf-0ac5fa22ccff"
      },
      "source": [
        "a = [1,2,3]\n",
        "b = [4,5,6]\n",
        "c = [7,8,9]\n",
        "for i,j,k in zip(zip(a, b), c):\n",
        "  print(i,j,k)"
      ],
      "execution_count": 58,
      "outputs": [
        {
          "output_type": "error",
          "ename": "ValueError",
          "evalue": "ignored",
          "traceback": [
            "\u001b[0;31m---------------------------------------------------------------------------\u001b[0m",
            "\u001b[0;31mValueError\u001b[0m                                Traceback (most recent call last)",
            "\u001b[0;32m<ipython-input-58-9a05afa4db30>\u001b[0m in \u001b[0;36m<module>\u001b[0;34m()\u001b[0m\n\u001b[1;32m      2\u001b[0m \u001b[0mb\u001b[0m \u001b[0;34m=\u001b[0m \u001b[0;34m[\u001b[0m\u001b[0;36m4\u001b[0m\u001b[0;34m,\u001b[0m\u001b[0;36m5\u001b[0m\u001b[0;34m,\u001b[0m\u001b[0;36m6\u001b[0m\u001b[0;34m]\u001b[0m\u001b[0;34m\u001b[0m\u001b[0;34m\u001b[0m\u001b[0m\n\u001b[1;32m      3\u001b[0m \u001b[0mc\u001b[0m \u001b[0;34m=\u001b[0m \u001b[0;34m[\u001b[0m\u001b[0;36m7\u001b[0m\u001b[0;34m,\u001b[0m\u001b[0;36m8\u001b[0m\u001b[0;34m,\u001b[0m\u001b[0;36m9\u001b[0m\u001b[0;34m]\u001b[0m\u001b[0;34m\u001b[0m\u001b[0;34m\u001b[0m\u001b[0m\n\u001b[0;32m----> 4\u001b[0;31m \u001b[0;32mfor\u001b[0m \u001b[0mi\u001b[0m\u001b[0;34m,\u001b[0m\u001b[0mj\u001b[0m\u001b[0;34m,\u001b[0m\u001b[0mk\u001b[0m \u001b[0;32min\u001b[0m \u001b[0mzip\u001b[0m\u001b[0;34m(\u001b[0m\u001b[0mzip\u001b[0m\u001b[0;34m(\u001b[0m\u001b[0ma\u001b[0m\u001b[0;34m,\u001b[0m \u001b[0mb\u001b[0m\u001b[0;34m)\u001b[0m\u001b[0;34m,\u001b[0m \u001b[0mc\u001b[0m\u001b[0;34m)\u001b[0m\u001b[0;34m:\u001b[0m\u001b[0;34m\u001b[0m\u001b[0;34m\u001b[0m\u001b[0m\n\u001b[0m\u001b[1;32m      5\u001b[0m   \u001b[0mprint\u001b[0m\u001b[0;34m(\u001b[0m\u001b[0mi\u001b[0m\u001b[0;34m,\u001b[0m\u001b[0mj\u001b[0m\u001b[0;34m,\u001b[0m\u001b[0mk\u001b[0m\u001b[0;34m)\u001b[0m\u001b[0;34m\u001b[0m\u001b[0;34m\u001b[0m\u001b[0m\n",
            "\u001b[0;31mValueError\u001b[0m: not enough values to unpack (expected 3, got 2)"
          ]
        }
      ]
    },
    {
      "cell_type": "code",
      "metadata": {
        "id": "Y8kS5-XOohpk",
        "colab_type": "code",
        "colab": {}
      },
      "source": [
        "data = []\n",
        "\n",
        "for content, label in zip(train_x_title, train_y):\n",
        "    data.append((content, label))\n",
        "for content, label in zip(train_x_content_str, train_y):\n",
        "    data.append((content, label))"
      ],
      "execution_count": 0,
      "outputs": []
    },
    {
      "cell_type": "code",
      "metadata": {
        "id": "WTHqEzr0pNBs",
        "colab_type": "code",
        "colab": {
          "base_uri": "https://localhost:8080/",
          "height": 106
        },
        "outputId": "2bb38435-3f2f-4bd9-efe5-fa0e52ea020e"
      },
      "source": [
        "data[:5]"
      ],
      "execution_count": 41,
      "outputs": [
        {
          "output_type": "execute_result",
          "data": {
            "text/plain": [
              "[('问责领导上黄镇党委书记张涛宣国才真能一手遮天吗', 2),\n",
              " ('江歌事件教会孩子善良的同时更要懂得保护自己', 1),\n",
              " ('绝味鸭脖广告开黄腔引众怒双这么拼值吗', 2),\n",
              " ('央视曝光如东一医药企业将槽罐车改成垃圾车夜间偷排高浓度废水', 2),\n",
              " ('恶劣至极央视都曝光了南通如东一医药企业将槽罐车改成洒水车夜间偷排高浓度废水丢大发了', 2)]"
            ]
          },
          "metadata": {
            "tags": []
          },
          "execution_count": 41
        }
      ]
    },
    {
      "cell_type": "code",
      "metadata": {
        "id": "DQopxpwDyKPm",
        "colab_type": "code",
        "colab": {
          "base_uri": "https://localhost:8080/",
          "height": 72
        },
        "outputId": "b263dd2e-31e1-43a6-f015-65ed17d4cd72"
      },
      "source": [
        "data[-2]"
      ],
      "execution_count": 42,
      "outputs": [
        {
          "output_type": "execute_result",
          "data": {
            "text/plain": [
              "('日日照经济技术开发区发布奎山汽贸城火灾事故调查情况报告年月日时分日照经济技术开发区奎山汽贸城日照贵华汽车销售服务有限公司发生火灾过火面积约平方米直接损失约万元火灾未造成人员伤亡事故发生工委管委主要领导第一时间赶赴事故现场指挥部署抢险救援事故调查处理工作国务院办公厅消防安全责任制实施办法安全生产法消防法生产安全事故报告调查处理条例法律法规工委管委成立管委分管领导任组长纪工委公安分局经发局安监局综合行政执法局消防大队奎山街道分管负责人成员事故调查领导小组全面开展事故调查处理工作事故调查组四不放过科学严谨依法依规实事求是注重实效原则现场勘验查阅资料调查取证委托技术鉴定机构事故现场相关物证设备设施开展取样分析技术鉴定查明事故发生原因认定事故性质责任事故暴露出问题提出防范措施现将情况报告基本情况事发建筑基本情况事发建筑位置事发建筑位于日照经济技术开发区南昌路西侧郭家湖子桥南约米奎山汽贸城事发建筑未取得公安机关规定编制门牌楼地址事发建筑布局事发建筑钢结构彩钢板顶东西长约米南北宽约米占地面积平方米建筑总面积约平方米事发建筑分为展厅维修车间两部分地上部分一层局部二层整体呈凹字形结构事发建筑共有单位家均取得营业执照北侧日照贵华汽车销售服务有限公司中间日照凌峰工贸有限公司南侧日照市凌青汽车销售服务有限公司事发建筑系集销售维修仓库办公一体建筑起火建筑日照贵华汽车销售服务有限公司位于事发建筑北侧分为展厅办公区维修车间起火建筑设有出入口西侧出入口进入展厅西北侧出入口进入展厅北侧墙体中间出入口维修车间客户休息区进入办公区北侧维修车间出入口进入维修车间二事故相关单位情况日照贵华汽车销售服务有限公司法定代表人为周萌萌实际控制人周传运统一社会信用代码类型有限责任公司自然人投资控股住所山东省日照经济开发区奎山汽贸城南昌路以东包头路以北经营范围汽车汽车配件销售二类机动车维修汽车装饰日照凌峰工贸有限公司法定代表人为凌吉峰统一社会信用代码类型有限责任公司自然人投资控股住所日照经济技术开发区奎山汽贸城经营范围汽车销售二类机动车维修车辆信息咨询服务汽车装饰汽车配件建材销售日照市凌青汽车销售服务有限公司法定代表人庄须青统一社会信用代码类型有限责任公司自然人投资住所山东省日照经济开发区奎山汽贸城国道包头路交汇处北米经营范围汽车销售二类机动车维修车辆信息咨询服务二手车销售汽车装饰汽车配件安装销售汽车租赁电子产品销售建材销售日照经济开发区骏驰汽车销售服务有限公司法定代表人夏培冲统一社会信用代码类型有限责任公司自然人投资控股住所日照市国道以东包头路以北经营范围二类机动车维修汽车销售汽车装饰三事发建筑建设出租情况省略二事故抢险救援情况事故发生年月日时分许日照贵华汽车销售服务有限公司宝沃店售后维修经理宋年春曹伟宝沃店北侧东边商量工作事宜突然发现宝沃店新车交车区上方外部亮光宋年春走近查看时北墙东墙交汇处新车交车区上方位置火焰火焰地面约米高处于猛烈燃烧阶段宋年春曹伟第一时间打开消火栓进行灭火拨打报警电话查证监控录像显示视频时间北京时间快分秒以下均视频原始时间发现年月日时分秒周飞办公室位置灯光熄灭现象时分秒周飞办公室开灯现象时分秒灯再次熄灭时分秒左右周飞办公室下方出现明火时分秒燃烧残骸掉落时分秒宝沃店外景广告灯熄灭二应急抢险救援情况年月日时分日照市消防支队指挥中心接到日照贵华汽车销售服务有限公司发生火灾报警接警指挥中心迅速调集辖区深圳路中队迅速出动辆消防车名官兵前往扑救调集山海天路中队特勤中队海曲路中队涛雒消防站南湖消防站辆消防车前往增援时分火灾彻底扑灭三事故原因性质事故调查组依法调取资质文件现场监控视频事发现场进行勘验事故涉及相关人员进行调查询问委托技术鉴定机构事故现场相关物证开展取样分析技术鉴定查明事故原因直接原因事发建筑北墙空腔处电气线路故障引燃周围可燃物引发火灾火灾发生原因经查事故发生现场未发现可疑人员物证鉴定未检出常见助燃剂成份现场勘验未发现爆炸装置爆炸装置遗留物未发现集中炸点未发现相关人员具有放火动机综合排除放火嫌疑综合相关调查技术鉴定结论认定本起火灾发生原因北墙空腔电气线路故障引燃绝缘层周围可燃物引发火灾火灾蔓延扩大原因店建设过程中采用符合标准铝塑板级装修事发建筑办公区域仓库防火分隔彻底建筑物之间防火间距不足室内使用易燃可燃材料进行装修电气线路敷设符合规定二间接原因违法建设违规施工违规出租安全隐患长期存在日照贵华汽车销售服务有限公司宝沃店安全生产主体责任落实隐患排查彻底导致事故发生违反租赁合同中双方约定未经出租方同意租赁展厅进行改装未能提供书面安全生产管理制度隐患排查记录人员培训情况企业负责人王丽娟称材料火灾事故中烧毁日照凌峰工贸有限公司雪铁龙店日照贵华汽车销售服务有限公司宝沃店签订租赁合同日常管理中以包代管管理缺位日照贵华汽车销售服务有限公司宝沃店私自改装展厅行为未尽监管责任未提醒相关职能部门日照贵华汽车销售服务有限公司宝沃店违规建设予以拆除双方未签订专门安全协议日照新世界房地产有限公司实际控制日照经济开发区骏驰汽车销售服务有限公司日照凌峰工贸有限公司雪铁龙店签订租赁合同日常管理中以包代管管理缺位日照凌峰工贸有限公司雪铁龙店部分地上附着物租赁日照贵华汽车销售服务有限公司宝沃店行为缺乏有效监管双方未签订专门安全协议山东德晟装修工程有限公司日照贵华汽车销售服务有限公司宝沃店装修电气线路敷设过程中未消防技术标准事发建筑主电缆进行穿管保护未采取可靠防火措施奎山街道企业安全生产监管不力致使企业安全隐患大量存在奎山街道安全生产监督管理办公室履行安全检查职责到位致使汽贸城内安全隐患大量存在未采取有效措施进行监管综合行政执法局违法建设处理管控到位综合行政执法局直属中队履行查处职责到位致使汽贸城内违法建设存在未采取有效措施三事故性质上述原因分析国家有关法律法规规定事故调查组认定日照贵华汽车销售服务有限公司火灾一起安全生产责任事故四对事故责任人员责任单位处理建议建议追究刑事责任人员周某日照市运发宝沃汽车销售服务有限公司实际控制中华人民共和国刑法第一百三十四条规定涉嫌重大责任事故罪移交公安机关处理王某山东德晟装修工程有限公司项目经理中华人民共和国刑法第一百三十四条规定涉嫌重大责任事故罪移交公安机关处理焦某山东德晟装修工程有限公司工人中华人民共和国刑法第一百三十四条规定涉嫌重大责任事故罪移交公安机关处理二建议相关部门予以处理人员奎山街道办事处安全生产监督管理办公室企业安全生产监管不力履行安全检查职责到位问责规定干部管理权限由奎山街道安全生产监督管理办公室副主任郭公宁进行通报批评办公室工作人员闫华伟崔久芹进行诫勉谈话该起火灾事故发生历史遗留违法建设综合行政执法局直属中队存在查处违法建设到位问题建议综合行政执法局直属中队副中队长李业林进行警示约谈三建议给予行政处罚单位综合执法局日照经济开发区骏驰汽车销售服务有限公司用地范围违法建设进行立案处罚消防大队中华人民共和国消防法山东消防条例规定日照贵华汽车销售服务有限公司进行立案处罚五事故防范整改措施建议事故调查组该起事故暴露出问题提出以下整改措施建议严格落实属地责任加强街道村两级安全工作领导严格落实部门监管责任督促企业落实主体责任强化安全防范措施落实认真剖析事故原因切实汲取事故教训进一步加强对奎山汽贸城内违法建设违规施工违规出租问题研究制定切实可行解决措施有效落实二坚决查处违法建设一是严厉打击违法建设工委管委应督促属地政府相关部门依法事发建筑予以处理认真研究解决辖区历史遗留违法建设问题二是属地街道办事处部门应当建立打击违法建设联动机制信息共享机制重点打击既有违法建设隐蔽违规施工行为检查发现群众举报违规建设行为采取切实有效措施予以处置三是明确在建店行业管理部门相关标准施工擅自降低安全标准要求予以严厉打击三狠抓消防安全隐患排查治理一是严厉打击汽贸城内符合消防安全条件建筑物专项整治二是加强日常消防安全巡查加大监管力度查出消防安全隐患督促整改四建立常态化火灾隐患排查整治机制组织实施区域性火灾隐患整治工作一是区域性火灾隐患整治工作列入政府目标责任进行安排部署成立专项整治领导机构二是确定整改计划制定科学合理切实可行整改方案明确整改责任主体启动区域性火灾隐患消防安全整治工作三是增建消防给水管网市政消火栓改善火灾隐患突出区域消防安全基础条件奎山汽贸城火灾事故调查组年月日特别声明文章内容仅代表作者观点代表新浪看点观点立场作品内容版权问题请作品发表日新浪看点联系',\n",
              " 2)"
            ]
          },
          "metadata": {
            "tags": []
          },
          "execution_count": 42
        }
      ]
    },
    {
      "cell_type": "code",
      "metadata": {
        "id": "rFBfUeDypQvd",
        "colab_type": "code",
        "colab": {}
      },
      "source": [
        "# 按照9:1的比例划分训练集和验证集\n",
        "random_order = list(range(len(data)))\n",
        "np.random.shuffle(random_order)\n",
        "train_data = [data[j] for i, j in enumerate(random_order) if i % 10 != 0]\n",
        "valid_data = [data[j] for i, j in enumerate(random_order) if i % 10 == 0]"
      ],
      "execution_count": 0,
      "outputs": []
    },
    {
      "cell_type": "code",
      "metadata": {
        "id": "DI97t50ypcEC",
        "colab_type": "code",
        "colab": {
          "base_uri": "https://localhost:8080/",
          "height": 52
        },
        "outputId": "b785c347-5be3-4be2-b920-a912aa388141"
      },
      "source": [
        "print(len(train_data))\n",
        "print(len(valid_data))"
      ],
      "execution_count": 44,
      "outputs": [
        {
          "output_type": "stream",
          "text": [
            "13077\n",
            "1453\n"
          ],
          "name": "stdout"
        }
      ]
    },
    {
      "cell_type": "code",
      "metadata": {
        "id": "A_BXTpiy4OHr",
        "colab_type": "code",
        "colab": {
          "base_uri": "https://localhost:8080/",
          "height": 52
        },
        "outputId": "30cdd841-0916-4278-d80a-afd47c59d911"
      },
      "source": [
        "#train_data = data\n",
        "print(len(train_data))\n",
        "print(len(valid_data))"
      ],
      "execution_count": 59,
      "outputs": [
        {
          "output_type": "stream",
          "text": [
            "13077\n",
            "1453\n"
          ],
          "name": "stdout"
        }
      ]
    },
    {
      "cell_type": "code",
      "metadata": {
        "id": "b2TfefDqqEQs",
        "colab_type": "code",
        "colab": {}
      },
      "source": [
        "def seq_padding(X, padding=0):\n",
        "    L = [len(x) for x in X]\n",
        "    ML = max(L)\n",
        "    return np.array([\n",
        "        np.concatenate([x, [padding] * (ML - len(x))]) if len(x) < ML else x for x in X\n",
        "    ])\n",
        "\n",
        "\n",
        "class data_generator:\n",
        "    def __init__(self, data, batch_size=32):\n",
        "        self.data = data\n",
        "        self.batch_size = batch_size\n",
        "        self.steps = len(self.data) // self.batch_size\n",
        "        if len(self.data) % self.batch_size != 0:\n",
        "            self.steps += 1\n",
        "    def __len__(self):\n",
        "        return self.steps\n",
        "    def __iter__(self):\n",
        "        while True:\n",
        "            idxs = list(range(len(self.data)))\n",
        "            np.random.shuffle(idxs)\n",
        "            X1, X2, Y = [], [], []\n",
        "            for i in idxs:\n",
        "                d = self.data[i]\n",
        "                text = d[0][:maxlen]\n",
        "                x1, x2 = tokenizer.encode(first=text)\n",
        "                y = d[1]\n",
        "                X1.append(x1)\n",
        "                X2.append(x2)\n",
        "                Y.append([y])\n",
        "                if len(X1) == self.batch_size or i == idxs[-1]:\n",
        "                    X1 = seq_padding(X1)\n",
        "                    X2 = seq_padding(X2)\n",
        "                    Y = seq_padding(Y)\n",
        "                    yield [X1, X2], Y\n",
        "                    [X1, X2, Y] = [], [], []\n"
      ],
      "execution_count": 0,
      "outputs": []
    },
    {
      "cell_type": "code",
      "metadata": {
        "id": "43nIXIEIqO6j",
        "colab_type": "code",
        "colab": {}
      },
      "source": [
        "from keras.layers import *\n",
        "from keras.models import Model\n",
        "import keras.backend as K\n",
        "from keras.optimizers import Adam"
      ],
      "execution_count": 0,
      "outputs": []
    },
    {
      "cell_type": "code",
      "metadata": {
        "id": "gGzHx4zKqUQ4",
        "colab_type": "code",
        "colab": {}
      },
      "source": [
        "bert_model = load_trained_model_from_checkpoint(config_path, checkpoint_path, seq_len=None)\n",
        "\n",
        "for l in bert_model.layers:\n",
        "    l.trainable = True"
      ],
      "execution_count": 0,
      "outputs": []
    },
    {
      "cell_type": "code",
      "metadata": {
        "id": "z0dUt-jRqXrm",
        "colab_type": "code",
        "colab": {}
      },
      "source": [
        "x1_in = Input(shape=(None,))\n",
        "x2_in = Input(shape=(None,))"
      ],
      "execution_count": 0,
      "outputs": []
    },
    {
      "cell_type": "code",
      "metadata": {
        "id": "z-GixKchqlrj",
        "colab_type": "code",
        "colab": {}
      },
      "source": [
        "x = bert_model([x1_in, x2_in])\n",
        "x = Lambda(lambda x: x[:, 0])(x)\n",
        "p = Dense(3, activation='softmax')(x)"
      ],
      "execution_count": 0,
      "outputs": []
    },
    {
      "cell_type": "code",
      "metadata": {
        "id": "AuocLjPlqodQ",
        "colab_type": "code",
        "colab": {
          "base_uri": "https://localhost:8080/",
          "height": 354
        },
        "outputId": "8ea51dd1-aa16-42cd-c5d2-b89a1e5ba29d"
      },
      "source": [
        "model = Model([x1_in, x2_in], p)\n",
        "model.compile(\n",
        "    loss='sparse_categorical_crossentropy',\n",
        "    optimizer=Adam(1e-5), # 用足够小的学习率\n",
        "    metrics=['accuracy']\n",
        ")\n",
        "model.summary()"
      ],
      "execution_count": 71,
      "outputs": [
        {
          "output_type": "stream",
          "text": [
            "Model: \"model_8\"\n",
            "__________________________________________________________________________________________________\n",
            "Layer (type)                    Output Shape         Param #     Connected to                     \n",
            "==================================================================================================\n",
            "input_5 (InputLayer)            (None, None)         0                                            \n",
            "__________________________________________________________________________________________________\n",
            "input_6 (InputLayer)            (None, None)         0                                            \n",
            "__________________________________________________________________________________________________\n",
            "model_7 (Model)                 (None, None, 768)    101677056   input_5[0][0]                    \n",
            "                                                                 input_6[0][0]                    \n",
            "__________________________________________________________________________________________________\n",
            "lambda_4 (Lambda)               (None, 768)          0           model_7[1][0]                    \n",
            "__________________________________________________________________________________________________\n",
            "dense_4 (Dense)                 (None, 3)            2307        lambda_4[0][0]                   \n",
            "==================================================================================================\n",
            "Total params: 101,679,363\n",
            "Trainable params: 101,679,363\n",
            "Non-trainable params: 0\n",
            "__________________________________________________________________________________________________\n"
          ],
          "name": "stdout"
        }
      ]
    },
    {
      "cell_type": "code",
      "metadata": {
        "id": "5WHQ3y1xq6gT",
        "colab_type": "code",
        "colab": {}
      },
      "source": [
        "train_D = data_generator(train_data)\n",
        "valid_D = data_generator(valid_data)\n"
      ],
      "execution_count": 0,
      "outputs": []
    },
    {
      "cell_type": "code",
      "metadata": {
        "id": "l24ETuAJq-1-",
        "colab_type": "code",
        "colab": {
          "base_uri": "https://localhost:8080/",
          "height": 548
        },
        "outputId": "7968aa35-d406-4666-d3a9-9a4ce16ca3dd"
      },
      "source": [
        "model.fit_generator(\n",
        "    train_D.__iter__(),\n",
        "    steps_per_epoch=len(train_D),\n",
        "    epochs=5,\n",
        "    validation_data=valid_D.__iter__(),\n",
        "    validation_steps=len(valid_D)\n",
        ")"
      ],
      "execution_count": 73,
      "outputs": [
        {
          "output_type": "stream",
          "text": [
            "Epoch 1/5\n",
            "409/409 [==============================] - 305s 746ms/step - loss: 0.5687 - acc: 0.7647 - val_loss: 0.4494 - val_acc: 0.8156\n",
            "Epoch 2/5\n",
            "409/409 [==============================] - 294s 720ms/step - loss: 0.4116 - acc: 0.8327 - val_loss: 0.4365 - val_acc: 0.8273\n",
            "Epoch 3/5\n",
            "409/409 [==============================] - 294s 720ms/step - loss: 0.2834 - acc: 0.8897 - val_loss: 0.4758 - val_acc: 0.8142\n",
            "Epoch 4/5\n",
            "409/409 [==============================] - 295s 720ms/step - loss: 0.1715 - acc: 0.9351 - val_loss: 0.5724 - val_acc: 0.8183\n",
            "Epoch 5/5\n",
            "  7/409 [..............................] - ETA: 4:40 - loss: 0.0819 - acc: 0.9732"
          ],
          "name": "stdout"
        },
        {
          "output_type": "error",
          "ename": "KeyboardInterrupt",
          "evalue": "ignored",
          "traceback": [
            "\u001b[0;31m---------------------------------------------------------------------------\u001b[0m",
            "\u001b[0;31mKeyboardInterrupt\u001b[0m                         Traceback (most recent call last)",
            "\u001b[0;32m<ipython-input-73-cad151504170>\u001b[0m in \u001b[0;36m<module>\u001b[0;34m()\u001b[0m\n\u001b[1;32m      4\u001b[0m     \u001b[0mepochs\u001b[0m\u001b[0;34m=\u001b[0m\u001b[0;36m5\u001b[0m\u001b[0;34m,\u001b[0m\u001b[0;34m\u001b[0m\u001b[0;34m\u001b[0m\u001b[0m\n\u001b[1;32m      5\u001b[0m     \u001b[0mvalidation_data\u001b[0m\u001b[0;34m=\u001b[0m\u001b[0mvalid_D\u001b[0m\u001b[0;34m.\u001b[0m\u001b[0m__iter__\u001b[0m\u001b[0;34m(\u001b[0m\u001b[0;34m)\u001b[0m\u001b[0;34m,\u001b[0m\u001b[0;34m\u001b[0m\u001b[0;34m\u001b[0m\u001b[0m\n\u001b[0;32m----> 6\u001b[0;31m     \u001b[0mvalidation_steps\u001b[0m\u001b[0;34m=\u001b[0m\u001b[0mlen\u001b[0m\u001b[0;34m(\u001b[0m\u001b[0mvalid_D\u001b[0m\u001b[0;34m)\u001b[0m\u001b[0;34m\u001b[0m\u001b[0;34m\u001b[0m\u001b[0m\n\u001b[0m\u001b[1;32m      7\u001b[0m )\n",
            "\u001b[0;32m/usr/local/lib/python3.6/dist-packages/keras/legacy/interfaces.py\u001b[0m in \u001b[0;36mwrapper\u001b[0;34m(*args, **kwargs)\u001b[0m\n\u001b[1;32m     89\u001b[0m                 warnings.warn('Update your `' + object_name + '` call to the ' +\n\u001b[1;32m     90\u001b[0m                               'Keras 2 API: ' + signature, stacklevel=2)\n\u001b[0;32m---> 91\u001b[0;31m             \u001b[0;32mreturn\u001b[0m \u001b[0mfunc\u001b[0m\u001b[0;34m(\u001b[0m\u001b[0;34m*\u001b[0m\u001b[0margs\u001b[0m\u001b[0;34m,\u001b[0m \u001b[0;34m**\u001b[0m\u001b[0mkwargs\u001b[0m\u001b[0;34m)\u001b[0m\u001b[0;34m\u001b[0m\u001b[0;34m\u001b[0m\u001b[0m\n\u001b[0m\u001b[1;32m     92\u001b[0m         \u001b[0mwrapper\u001b[0m\u001b[0;34m.\u001b[0m\u001b[0m_original_function\u001b[0m \u001b[0;34m=\u001b[0m \u001b[0mfunc\u001b[0m\u001b[0;34m\u001b[0m\u001b[0;34m\u001b[0m\u001b[0m\n\u001b[1;32m     93\u001b[0m         \u001b[0;32mreturn\u001b[0m \u001b[0mwrapper\u001b[0m\u001b[0;34m\u001b[0m\u001b[0;34m\u001b[0m\u001b[0m\n",
            "\u001b[0;32m/usr/local/lib/python3.6/dist-packages/keras/engine/training.py\u001b[0m in \u001b[0;36mfit_generator\u001b[0;34m(self, generator, steps_per_epoch, epochs, verbose, callbacks, validation_data, validation_steps, validation_freq, class_weight, max_queue_size, workers, use_multiprocessing, shuffle, initial_epoch)\u001b[0m\n\u001b[1;32m   1656\u001b[0m             \u001b[0muse_multiprocessing\u001b[0m\u001b[0;34m=\u001b[0m\u001b[0muse_multiprocessing\u001b[0m\u001b[0;34m,\u001b[0m\u001b[0;34m\u001b[0m\u001b[0;34m\u001b[0m\u001b[0m\n\u001b[1;32m   1657\u001b[0m             \u001b[0mshuffle\u001b[0m\u001b[0;34m=\u001b[0m\u001b[0mshuffle\u001b[0m\u001b[0;34m,\u001b[0m\u001b[0;34m\u001b[0m\u001b[0;34m\u001b[0m\u001b[0m\n\u001b[0;32m-> 1658\u001b[0;31m             initial_epoch=initial_epoch)\n\u001b[0m\u001b[1;32m   1659\u001b[0m \u001b[0;34m\u001b[0m\u001b[0m\n\u001b[1;32m   1660\u001b[0m     \u001b[0;34m@\u001b[0m\u001b[0minterfaces\u001b[0m\u001b[0;34m.\u001b[0m\u001b[0mlegacy_generator_methods_support\u001b[0m\u001b[0;34m\u001b[0m\u001b[0;34m\u001b[0m\u001b[0m\n",
            "\u001b[0;32m/usr/local/lib/python3.6/dist-packages/keras/engine/training_generator.py\u001b[0m in \u001b[0;36mfit_generator\u001b[0;34m(model, generator, steps_per_epoch, epochs, verbose, callbacks, validation_data, validation_steps, validation_freq, class_weight, max_queue_size, workers, use_multiprocessing, shuffle, initial_epoch)\u001b[0m\n\u001b[1;32m    213\u001b[0m                 outs = model.train_on_batch(x, y,\n\u001b[1;32m    214\u001b[0m                                             \u001b[0msample_weight\u001b[0m\u001b[0;34m=\u001b[0m\u001b[0msample_weight\u001b[0m\u001b[0;34m,\u001b[0m\u001b[0;34m\u001b[0m\u001b[0;34m\u001b[0m\u001b[0m\n\u001b[0;32m--> 215\u001b[0;31m                                             class_weight=class_weight)\n\u001b[0m\u001b[1;32m    216\u001b[0m \u001b[0;34m\u001b[0m\u001b[0m\n\u001b[1;32m    217\u001b[0m                 \u001b[0mouts\u001b[0m \u001b[0;34m=\u001b[0m \u001b[0mto_list\u001b[0m\u001b[0;34m(\u001b[0m\u001b[0mouts\u001b[0m\u001b[0;34m)\u001b[0m\u001b[0;34m\u001b[0m\u001b[0;34m\u001b[0m\u001b[0m\n",
            "\u001b[0;32m/usr/local/lib/python3.6/dist-packages/keras/engine/training.py\u001b[0m in \u001b[0;36mtrain_on_batch\u001b[0;34m(self, x, y, sample_weight, class_weight)\u001b[0m\n\u001b[1;32m   1447\u001b[0m             \u001b[0mins\u001b[0m \u001b[0;34m=\u001b[0m \u001b[0mx\u001b[0m \u001b[0;34m+\u001b[0m \u001b[0my\u001b[0m \u001b[0;34m+\u001b[0m \u001b[0msample_weights\u001b[0m\u001b[0;34m\u001b[0m\u001b[0;34m\u001b[0m\u001b[0m\n\u001b[1;32m   1448\u001b[0m         \u001b[0mself\u001b[0m\u001b[0;34m.\u001b[0m\u001b[0m_make_train_function\u001b[0m\u001b[0;34m(\u001b[0m\u001b[0;34m)\u001b[0m\u001b[0;34m\u001b[0m\u001b[0;34m\u001b[0m\u001b[0m\n\u001b[0;32m-> 1449\u001b[0;31m         \u001b[0moutputs\u001b[0m \u001b[0;34m=\u001b[0m \u001b[0mself\u001b[0m\u001b[0;34m.\u001b[0m\u001b[0mtrain_function\u001b[0m\u001b[0;34m(\u001b[0m\u001b[0mins\u001b[0m\u001b[0;34m)\u001b[0m\u001b[0;34m\u001b[0m\u001b[0;34m\u001b[0m\u001b[0m\n\u001b[0m\u001b[1;32m   1450\u001b[0m         \u001b[0;32mreturn\u001b[0m \u001b[0munpack_singleton\u001b[0m\u001b[0;34m(\u001b[0m\u001b[0moutputs\u001b[0m\u001b[0;34m)\u001b[0m\u001b[0;34m\u001b[0m\u001b[0;34m\u001b[0m\u001b[0m\n\u001b[1;32m   1451\u001b[0m \u001b[0;34m\u001b[0m\u001b[0m\n",
            "\u001b[0;32m/usr/local/lib/python3.6/dist-packages/keras/backend/tensorflow_backend.py\u001b[0m in \u001b[0;36m__call__\u001b[0;34m(self, inputs)\u001b[0m\n\u001b[1;32m   2977\u001b[0m                     \u001b[0;32mreturn\u001b[0m \u001b[0mself\u001b[0m\u001b[0;34m.\u001b[0m\u001b[0m_legacy_call\u001b[0m\u001b[0;34m(\u001b[0m\u001b[0minputs\u001b[0m\u001b[0;34m)\u001b[0m\u001b[0;34m\u001b[0m\u001b[0;34m\u001b[0m\u001b[0m\n\u001b[1;32m   2978\u001b[0m \u001b[0;34m\u001b[0m\u001b[0m\n\u001b[0;32m-> 2979\u001b[0;31m             \u001b[0;32mreturn\u001b[0m \u001b[0mself\u001b[0m\u001b[0;34m.\u001b[0m\u001b[0m_call\u001b[0m\u001b[0;34m(\u001b[0m\u001b[0minputs\u001b[0m\u001b[0;34m)\u001b[0m\u001b[0;34m\u001b[0m\u001b[0;34m\u001b[0m\u001b[0m\n\u001b[0m\u001b[1;32m   2980\u001b[0m         \u001b[0;32melse\u001b[0m\u001b[0;34m:\u001b[0m\u001b[0;34m\u001b[0m\u001b[0;34m\u001b[0m\u001b[0m\n\u001b[1;32m   2981\u001b[0m             \u001b[0;32mif\u001b[0m \u001b[0mpy_any\u001b[0m\u001b[0;34m(\u001b[0m\u001b[0mis_tensor\u001b[0m\u001b[0;34m(\u001b[0m\u001b[0mx\u001b[0m\u001b[0;34m)\u001b[0m \u001b[0;32mfor\u001b[0m \u001b[0mx\u001b[0m \u001b[0;32min\u001b[0m \u001b[0minputs\u001b[0m\u001b[0;34m)\u001b[0m\u001b[0;34m:\u001b[0m\u001b[0;34m\u001b[0m\u001b[0;34m\u001b[0m\u001b[0m\n",
            "\u001b[0;32m/usr/local/lib/python3.6/dist-packages/keras/backend/tensorflow_backend.py\u001b[0m in \u001b[0;36m_call\u001b[0;34m(self, inputs)\u001b[0m\n\u001b[1;32m   2935\u001b[0m             \u001b[0mfetched\u001b[0m \u001b[0;34m=\u001b[0m \u001b[0mself\u001b[0m\u001b[0;34m.\u001b[0m\u001b[0m_callable_fn\u001b[0m\u001b[0;34m(\u001b[0m\u001b[0;34m*\u001b[0m\u001b[0marray_vals\u001b[0m\u001b[0;34m,\u001b[0m \u001b[0mrun_metadata\u001b[0m\u001b[0;34m=\u001b[0m\u001b[0mself\u001b[0m\u001b[0;34m.\u001b[0m\u001b[0mrun_metadata\u001b[0m\u001b[0;34m)\u001b[0m\u001b[0;34m\u001b[0m\u001b[0;34m\u001b[0m\u001b[0m\n\u001b[1;32m   2936\u001b[0m         \u001b[0;32melse\u001b[0m\u001b[0;34m:\u001b[0m\u001b[0;34m\u001b[0m\u001b[0;34m\u001b[0m\u001b[0m\n\u001b[0;32m-> 2937\u001b[0;31m             \u001b[0mfetched\u001b[0m \u001b[0;34m=\u001b[0m \u001b[0mself\u001b[0m\u001b[0;34m.\u001b[0m\u001b[0m_callable_fn\u001b[0m\u001b[0;34m(\u001b[0m\u001b[0;34m*\u001b[0m\u001b[0marray_vals\u001b[0m\u001b[0;34m)\u001b[0m\u001b[0;34m\u001b[0m\u001b[0;34m\u001b[0m\u001b[0m\n\u001b[0m\u001b[1;32m   2938\u001b[0m         \u001b[0;32mreturn\u001b[0m \u001b[0mfetched\u001b[0m\u001b[0;34m[\u001b[0m\u001b[0;34m:\u001b[0m\u001b[0mlen\u001b[0m\u001b[0;34m(\u001b[0m\u001b[0mself\u001b[0m\u001b[0;34m.\u001b[0m\u001b[0moutputs\u001b[0m\u001b[0;34m)\u001b[0m\u001b[0;34m]\u001b[0m\u001b[0;34m\u001b[0m\u001b[0;34m\u001b[0m\u001b[0m\n\u001b[1;32m   2939\u001b[0m \u001b[0;34m\u001b[0m\u001b[0m\n",
            "\u001b[0;32m/usr/local/lib/python3.6/dist-packages/tensorflow/python/client/session.py\u001b[0m in \u001b[0;36m__call__\u001b[0;34m(self, *args, **kwargs)\u001b[0m\n\u001b[1;32m   1456\u001b[0m         ret = tf_session.TF_SessionRunCallable(self._session._session,\n\u001b[1;32m   1457\u001b[0m                                                \u001b[0mself\u001b[0m\u001b[0;34m.\u001b[0m\u001b[0m_handle\u001b[0m\u001b[0;34m,\u001b[0m \u001b[0margs\u001b[0m\u001b[0;34m,\u001b[0m\u001b[0;34m\u001b[0m\u001b[0;34m\u001b[0m\u001b[0m\n\u001b[0;32m-> 1458\u001b[0;31m                                                run_metadata_ptr)\n\u001b[0m\u001b[1;32m   1459\u001b[0m         \u001b[0;32mif\u001b[0m \u001b[0mrun_metadata\u001b[0m\u001b[0;34m:\u001b[0m\u001b[0;34m\u001b[0m\u001b[0;34m\u001b[0m\u001b[0m\n\u001b[1;32m   1460\u001b[0m           \u001b[0mproto_data\u001b[0m \u001b[0;34m=\u001b[0m \u001b[0mtf_session\u001b[0m\u001b[0;34m.\u001b[0m\u001b[0mTF_GetBuffer\u001b[0m\u001b[0;34m(\u001b[0m\u001b[0mrun_metadata_ptr\u001b[0m\u001b[0;34m)\u001b[0m\u001b[0;34m\u001b[0m\u001b[0;34m\u001b[0m\u001b[0m\n",
            "\u001b[0;31mKeyboardInterrupt\u001b[0m: "
          ]
        }
      ]
    },
    {
      "cell_type": "code",
      "metadata": {
        "id": "4A83bRMzBdLd",
        "colab_type": "code",
        "colab": {
          "base_uri": "https://localhost:8080/",
          "height": 301
        },
        "outputId": "f96ee0d0-9866-46c0-c20f-1dccd6cf1a59"
      },
      "source": [
        "!nvidia-smi"
      ],
      "execution_count": 41,
      "outputs": [
        {
          "output_type": "stream",
          "text": [
            "Sun Sep  1 13:59:56 2019       \n",
            "+-----------------------------------------------------------------------------+\n",
            "| NVIDIA-SMI 430.40       Driver Version: 418.67       CUDA Version: 10.1     |\n",
            "|-------------------------------+----------------------+----------------------+\n",
            "| GPU  Name        Persistence-M| Bus-Id        Disp.A | Volatile Uncorr. ECC |\n",
            "| Fan  Temp  Perf  Pwr:Usage/Cap|         Memory-Usage | GPU-Util  Compute M. |\n",
            "|===============================+======================+======================|\n",
            "|   0  Tesla K80           Off  | 00000000:00:04.0 Off |                    0 |\n",
            "| N/A   69C    P0    74W / 149W |   8344MiB / 11441MiB |      0%      Default |\n",
            "+-------------------------------+----------------------+----------------------+\n",
            "                                                                               \n",
            "+-----------------------------------------------------------------------------+\n",
            "| Processes:                                                       GPU Memory |\n",
            "|  GPU       PID   Type   Process name                             Usage      |\n",
            "|=============================================================================|\n",
            "+-----------------------------------------------------------------------------+\n"
          ],
          "name": "stdout"
        }
      ]
    },
    {
      "cell_type": "code",
      "metadata": {
        "id": "nFO0_CIku4fN",
        "colab_type": "code",
        "colab": {}
      },
      "source": [
        "def predict_sentiment(text):\n",
        "    tokens = tokenizer.tokenize(text)\n",
        "    indices = np.array([[token_dict[token] for token in tokens]])\n",
        "    segments = np.zeros(len(tokens))\n",
        "    result = model.predict([indices, segments], verbose=False)[0].argmax(-1)\n",
        "    return result"
      ],
      "execution_count": 0,
      "outputs": []
    },
    {
      "cell_type": "code",
      "metadata": {
        "id": "-MSClBMVu6UO",
        "colab_type": "code",
        "colab": {}
      },
      "source": [
        "results = []\n",
        "for sent in test_x:\n",
        "  results.append(predict_sentiment(sent))"
      ],
      "execution_count": 0,
      "outputs": []
    },
    {
      "cell_type": "code",
      "metadata": {
        "id": "3OfmmuqEu836",
        "colab_type": "code",
        "colab": {
          "base_uri": "https://localhost:8080/",
          "height": 35
        },
        "outputId": "763ca2d8-566b-477c-d3a5-2655802cd3f4"
      },
      "source": [
        "len(results)"
      ],
      "execution_count": 44,
      "outputs": [
        {
          "output_type": "execute_result",
          "data": {
            "text/plain": [
              "7288"
            ]
          },
          "metadata": {
            "tags": []
          },
          "execution_count": 44
        }
      ]
    },
    {
      "cell_type": "code",
      "metadata": {
        "id": "rED0GjFPwSrO",
        "colab_type": "code",
        "colab": {
          "base_uri": "https://localhost:8080/",
          "height": 35
        },
        "outputId": "1fd73c3c-6ba3-4b7a-832e-be88f75d94c8"
      },
      "source": [
        "results[:20]"
      ],
      "execution_count": 45,
      "outputs": [
        {
          "output_type": "execute_result",
          "data": {
            "text/plain": [
              "[0, 1, 1, 1, 2, 0, 0, 1, 2, 2, 1, 2, 2, 2, 0, 1, 1, 1, 1, 2]"
            ]
          },
          "metadata": {
            "tags": []
          },
          "execution_count": 45
        }
      ]
    },
    {
      "cell_type": "code",
      "metadata": {
        "id": "36Tm0q6SwX8u",
        "colab_type": "code",
        "colab": {}
      },
      "source": [
        "pd.DataFrame({\"id\": df_test_x['id'].values, \"label\": results}).to_csv('results_bert_v4.csv', index=False, header=True)"
      ],
      "execution_count": 0,
      "outputs": []
    },
    {
      "cell_type": "code",
      "metadata": {
        "id": "3VoKgSPwxuFq",
        "colab_type": "code",
        "colab": {}
      },
      "source": [
        "from google.colab import files\n",
        "files.download('results_bert_v4.csv')"
      ],
      "execution_count": 0,
      "outputs": []
    },
    {
      "cell_type": "code",
      "metadata": {
        "id": "AwusqqfWxxoR",
        "colab_type": "code",
        "colab": {}
      },
      "source": [
        ""
      ],
      "execution_count": 0,
      "outputs": []
    }
  ]
}